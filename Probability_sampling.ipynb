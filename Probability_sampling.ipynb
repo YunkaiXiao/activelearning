{
 "cells": [
  {
   "cell_type": "markdown",
   "metadata": {},
   "source": [
    "# Sentiment Classifiers Binary:\n",
    "#### This notebook contains various classifiers that can be used on a provided text dataset."
   ]
  },
  {
   "cell_type": "code",
   "execution_count": 1,
   "metadata": {},
   "outputs": [
    {
     "name": "stderr",
     "output_type": "stream",
     "text": [
      "D:\\ProgramFiles\\Python36\\lib\\site-packages\\tensorflow\\python\\framework\\dtypes.py:526: FutureWarning: Passing (type, 1) or '1type' as a synonym of type is deprecated; in a future version of numpy, it will be understood as (type, (1,)) / '(1,)type'.\n",
      "  _np_qint8 = np.dtype([(\"qint8\", np.int8, 1)])\n",
      "D:\\ProgramFiles\\Python36\\lib\\site-packages\\tensorflow\\python\\framework\\dtypes.py:527: FutureWarning: Passing (type, 1) or '1type' as a synonym of type is deprecated; in a future version of numpy, it will be understood as (type, (1,)) / '(1,)type'.\n",
      "  _np_quint8 = np.dtype([(\"quint8\", np.uint8, 1)])\n",
      "D:\\ProgramFiles\\Python36\\lib\\site-packages\\tensorflow\\python\\framework\\dtypes.py:528: FutureWarning: Passing (type, 1) or '1type' as a synonym of type is deprecated; in a future version of numpy, it will be understood as (type, (1,)) / '(1,)type'.\n",
      "  _np_qint16 = np.dtype([(\"qint16\", np.int16, 1)])\n",
      "D:\\ProgramFiles\\Python36\\lib\\site-packages\\tensorflow\\python\\framework\\dtypes.py:529: FutureWarning: Passing (type, 1) or '1type' as a synonym of type is deprecated; in a future version of numpy, it will be understood as (type, (1,)) / '(1,)type'.\n",
      "  _np_quint16 = np.dtype([(\"quint16\", np.uint16, 1)])\n",
      "D:\\ProgramFiles\\Python36\\lib\\site-packages\\tensorflow\\python\\framework\\dtypes.py:530: FutureWarning: Passing (type, 1) or '1type' as a synonym of type is deprecated; in a future version of numpy, it will be understood as (type, (1,)) / '(1,)type'.\n",
      "  _np_qint32 = np.dtype([(\"qint32\", np.int32, 1)])\n",
      "D:\\ProgramFiles\\Python36\\lib\\site-packages\\tensorflow\\python\\framework\\dtypes.py:535: FutureWarning: Passing (type, 1) or '1type' as a synonym of type is deprecated; in a future version of numpy, it will be understood as (type, (1,)) / '(1,)type'.\n",
      "  np_resource = np.dtype([(\"resource\", np.ubyte, 1)])\n",
      "Using TensorFlow backend.\n"
     ]
    }
   ],
   "source": [
    "import pandas as pd\n",
    "import numpy as np\n",
    "from sklearn.model_selection import train_test_split\n",
    "from sklearn.feature_extraction.text import CountVectorizer\n",
    "from sklearn.feature_extraction.text import TfidfTransformer\n",
    "from sklearn.naive_bayes import MultinomialNB\n",
    "from sklearn.naive_bayes import ComplementNB\n",
    "from sklearn.linear_model import LogisticRegression\n",
    "from sklearn.ensemble import AdaBoostClassifier\n",
    "from sklearn.ensemble import RandomForestClassifier\n",
    "from sklearn.pipeline import Pipeline\n",
    "from sklearn.linear_model import SGDClassifier\n",
    "from sklearn.svm import SVC\n",
    "from sklearn.metrics import confusion_matrix, classification_report\n",
    "from sklearn.model_selection import GridSearchCV\n",
    "import nltk\n",
    "from nltk.sentiment.vader import SentimentIntensityAnalyzer\n",
    "import tensorflow as tf\n",
    "import keras\n",
    "import sklearn\n",
    "import csv\n",
    "import itertools\n",
    "import matplotlib.pyplot as plt\n",
    "from sklearn import svm, datasets\n",
    "import operator\n",
    "import seaborn as sns\n",
    "import pickle"
   ]
  },
  {
   "cell_type": "code",
   "execution_count": 2,
   "metadata": {},
   "outputs": [],
   "source": [
    "## This function is called by the classifiers to provide a visulization of the results\n",
    "def plot_confusion_matrix(cm, classes, Y_test,\n",
    "                          predictions,\n",
    "                          title='Confusion matrix',\n",
    "                          cmap=plt.cm.Blues):\n",
    "    print(\"Confusion Matrix:\")\n",
    "    print(cm)\n",
    "\n",
    "    plt.clf()\n",
    "    plt.imshow(cm, interpolation='nearest', cmap=cmap)\n",
    "    plt.title(title)\n",
    "    plt.colorbar()\n",
    "    tick_marks = np.arange(len(classes))\n",
    "    plt.xticks(tick_marks, classes, rotation=45)\n",
    "    plt.yticks(tick_marks, classes)\n",
    "\n",
    "    thresh = cm.max() / 2.\n",
    "    for i, j in itertools.product(range(cm.shape[0]), range(cm.shape[1])):\n",
    "        plt.text(j, i, format(cm[i, j],'d'),\n",
    "                 horizontalalignment=\"center\",\n",
    "                 color=\"white\" if cm[i, j] > thresh else \"black\")\n",
    "\n",
    "    plt.ylabel('True label')\n",
    "    plt.xlabel('Predicted label')\n",
    "    plt.tight_layout()\n",
    "    plt.show()\n",
    "    print(classification_report(Y_test, predictions, target_names = classes))"
   ]
  },
  {
   "cell_type": "markdown",
   "metadata": {},
   "source": [
    "### Complete -> Enter the name of the dataset you want to test into the file_in variable:\n",
    "##### The file_out dataset is the name of the dataset that will stored the number converted version of the text data. Set the name of file_out to the name of the converted dataset if you already have a dataset that has numeric representations of the dataset already instead of words. Otherwise, file_out will be the output file name that is the converted data of the file_in dataset that gets read in for classification for the tensorflow model. Also, if you already have a converted file, make sure that re_read is set to 0 so that it does not get overwritten."
   ]
  },
  {
   "cell_type": "code",
   "execution_count": 3,
   "metadata": {},
   "outputs": [],
   "source": [
    "### Enter filenames below:\n",
    "file_in = \"1-100.xlsx\"\n",
    "### Enter column names for data and labels below:\n",
    "data_col = \"review_body\"\n",
    "label_col = \"tag\"\n",
    "### Set re_read to 0 if you already have a converted text file, 1 if it needs to be created\n",
    "re_read = 0"
   ]
  },
  {
   "cell_type": "code",
   "execution_count": 4,
   "metadata": {},
   "outputs": [
    {
     "name": "stdout",
     "output_type": "stream",
     "text": [
      "1-100.xlsx\n",
      "review_body    object\n",
      "tag             int64\n",
      "dtype: object\n",
      "Sample size: 100\n",
      "                                         review_body  tag\n",
      "0  My first really nice camera, and what a disapp...    1\n",
      "1  While the camera initially functioned okay, it...    1\n",
      "2  Its pretty simple folks; this thing produces a...    1\n",
      "3  Very nice product. High quality and everything...    1\n",
      "4  I have had this bag for a while and have used ...    1\n"
     ]
    }
   ],
   "source": [
    "df = pd.read_excel(file_in)\n",
    "df = df[['review_body', 'tag']]\n",
    "df = df.dropna()\n",
    "df = df.reset_index()\n",
    "df = df.drop(columns = ['index'])\n",
    "print(file_in)\n",
    "print(df.dtypes)\n",
    "print(\"Sample size:\", len(df))\n",
    "print(df.head(5))"
   ]
  },
  {
   "cell_type": "markdown",
   "metadata": {},
   "source": [
    "#### Setting up the data."
   ]
  },
  {
   "cell_type": "code",
   "execution_count": 5,
   "metadata": {},
   "outputs": [],
   "source": [
    "X = df[data_col]\n",
    "Y = df[label_col]"
   ]
  },
  {
   "cell_type": "code",
   "execution_count": 6,
   "metadata": {},
   "outputs": [
    {
     "name": "stdout",
     "output_type": "stream",
     "text": [
      "['My', 'first', 'really', 'nice', 'camera', ',', 'and', 'what', 'a', 'disappointment', 'For', 'the', 'first', 'time', 'ever', 'in', 'my', 'life', ',', 'I', 'had', 'to', 'read', 'the', 'instruction', 'manual', 'to', 'figure', 'out', 'a', 'technical', 'item', '...', '(', 'a', 'first', 'for', 'someone', 'whos', 'built', 'telescopes', ',', 'configured/programmed/used', 'TVs', ',', 'VCRs', ',', 'stereo', 'component', 'systems', ',', 'MD', 'recorders', ',', 'camcorders', ',', 'and', 'used', 'many', 'cameras', 'without', 'the', 'aid', 'of', 'the', 'standard', 'booklet', ')', '.', 'Well', ',', 'theres', 'a', 'first', 'for', 'everything', 'That', 'is', 'fine', ',', 'but', '...', 'Embarassing', 'to', 'admit', ',', 'after', 'having', 'to', 'eventually', 'reread', 'the', 'manual', 'a', 'sum', 'of', 'about', 'FOUR', 'times', 'and', 'still', 'not', 'understanding', 'the', 'temperamental', 'nature', 'of', 'this', 'beast', '(', 'since', 'it', 'still', 'was', 'not', 'performing', 'as', 'predicted', 'in', 'writing', ')', ',', 'I', 'gave', 'up', 'on', 'reading', '.', 'I', 'decided', 'to', 'perservere', 'with', 'the', 'settings', 'to', 'see', 'which', 'would', 'happen', 'to', 'work', '.', 'I', 'was', 'intent', 'on', 'having', 'a', 'good', 'working', 'relationship', 'with', 'my', 'new', 'friend', ',', 'but', 'alas', ',', 'it', 'did', 'not', 'succeed', '.', 'After', 'enough', 'unsatisfactory', 'shooting', 'experiences', ',', 'I', 'soon', 'returned', 'it.To', 'begin', 'with', ',', 'this', 'camera', 'was', 'bulky', 'and', 'awkward', 'to', 'hold', ',', 'giving', 'me', 'a', 'bit', 'of', 'the', 'shakies', 'during', 'most', 'shoots', '.', 'The', 'various', 'button', 'positions', 'for', 'the', 'settings', 'were', 'hardly', 'ergonomic', '--', 'more', 'like', 'calisthenics', '(', 'even', 'for', 'us', 'piano', 'players', ')', '.', 'When', 'I', 'needed', 'to', 'ask', 'someone', 'else', 'to', 'take', 'a', 'picture', 'with', 'it', 'of', 'me', 'and', 'someone/thing', 'else', ',', 'I', 'had', 'to', 'give', 'a', 'five', 'minute', 'lesson', 'on', 'how', 'to', 'use', 'it', ',', 'and', 'these', 'various', 'individuals', 'still', 'couldnt', 'get', 'it', 'to', 'shoot', 'no', 'matter', 'WHAT', 'setting', 'they', 'tried', '.', 'When', 'it', 'did', 'take', 'the', 'picture', ',', 'it', 'took', 'quite', 'a', 'while', 'to', 'complete', 'and', 'was', 'rather', 'noisy.Often', 'I', 'had', 'to', 'change', 'the', 'potential', 'photos', 'composition', '(', 'if', 'not', 'photographable', 'at', 'ANY', 'setting', 'combination', ')', 'to', 'less', 'than', 'what', 'I', 'desired', '.', 'Then', ',', 'I', 'usually', 'found', 'only', 'ONE', 'least', 'expected', 'setting', 'that', 'WOULD', 'take', 'the', 'picture', '.', 'When', 'going', 'through', 'these', 'jumping', 'jacks', 'for', 'various', 'focusing', 'situations', ',', 'the', 'final', 'pictures', 'still', 'most', 'commonly', 'came', 'out', 'too', 'dark', '.', 'I', 'WAS', 'using', 'the', 'right', 'film', 'speed', 'for', 'the', 'indoor', ',', 'well-lit', 'environment', 'according', 'to', 'standard', 'guidelines', 'Ive', 'followed', 'for', 'yearswith', 'no', 'trouble', '.', 'Even', 'in', 'the', 'few', 'pictures', 'that', 'did', 'turn', 'out', 'visibly', 'discernable', ',', 'the', 'subject', 'in', 'the', 'foreground', 'looked', 'way', 'too', 'overexposed', 'and', 'the', 'background', 'unnecessarily', 'way', 'too', 'dark', '.', 'Weird', 'flash', 'on', 'this', 'guy', '.', 'After', 'briefly', 'using', 'someones', 'manual', 'camera', 'a', 'few', 'years', 'ago', ',', 'I', 'am', 'convinced', 'that', 'the', 'old', 'archaic', 'complexities', 'of', 'shooting', 'with', 'those', 'cameras', 'are', 'in', 'the', 'end', 'EASIER', 'to', 'use', 'than', 'some', 'of', 'todays', 'overly-programmed', ',', 'auto-smart', 'cameras.The', 'major', 'reason', 'why', 'I', 'bought', 'my', 'first', 'Olympus', 'is', 'because', 'of', 'their', 'rare', 'use', 'of', 'a', 'total', 'glass', 'lenses', ',', 'enhancing', 'color', 'results', '.', 'The', 'colors', 'in', 'the', 'few', 'pictures', '(', 'after', 'working', 'through', 'many', 'rolls', ')', 'that', 'DID', 'come', 'out', 'were', 'so', 'extreme', 'and', 'bright', 'in', 'contrast', 'that', 'they', 'looked', 'ridiculous', 'to', 'me', '.', 'I', 'also', 'had', 'those', 'rolls', 'processed', 'simultaneously', 'with', 'film', 'from', 'another', 'camera', ';', 'and', ',', 'those', 'pictures', 'did', 'not', 'show', 'those', 'same', 'color', 'results', '.', 'So', ',', 'I', 'probably', 'cant', 'blame', 'the', 'developer.Unsatisfied', '.', 'NOT', 'a', 'user', 'friendly', 'step-up', 'from', 'your', 'basic', 'three-setting', 'zoom', 'cameras', '.', 'Im', 'amazed', 'that', 'anyone', 'can', 'get', 'good', 'results', 'with', 'this', 'otherwise', 'cute', 'camera', ',', 'and', 'actually', 'admire', 'the', 'picture', 'quality', '.']\n",
      "[('My', 'PRP$'), ('first', 'JJ'), ('really', 'RB'), ('nice', 'JJ'), ('camera', 'NN'), (',', ','), ('and', 'CC'), ('what', 'WP'), ('a', 'DT'), ('disappointment', 'NN'), ('For', 'IN'), ('the', 'DT'), ('first', 'JJ'), ('time', 'NN'), ('ever', 'RB'), ('in', 'IN'), ('my', 'PRP$'), ('life', 'NN'), (',', ','), ('I', 'PRP'), ('had', 'VBD'), ('to', 'TO'), ('read', 'VB'), ('the', 'DT'), ('instruction', 'NN'), ('manual', 'JJ'), ('to', 'TO'), ('figure', 'VB'), ('out', 'RP'), ('a', 'DT'), ('technical', 'JJ'), ('item', 'NN'), ('...', ':'), ('(', '('), ('a', 'DT'), ('first', 'RB'), ('for', 'IN'), ('someone', 'NN'), ('whos', 'NN'), ('built', 'VBN'), ('telescopes', 'NNS'), (',', ','), ('configured/programmed/used', 'VBD'), ('TVs', 'NNP'), (',', ','), ('VCRs', 'NNP'), (',', ','), ('stereo', 'JJ'), ('component', 'NN'), ('systems', 'NNS'), (',', ','), ('MD', 'NNP'), ('recorders', 'NNS'), (',', ','), ('camcorders', 'NNS'), (',', ','), ('and', 'CC'), ('used', 'VBD'), ('many', 'JJ'), ('cameras', 'NNS'), ('without', 'IN'), ('the', 'DT'), ('aid', 'NN'), ('of', 'IN'), ('the', 'DT'), ('standard', 'JJ'), ('booklet', 'NN'), (')', ')'), ('.', '.'), ('Well', 'UH'), (',', ','), ('theres', 'VBZ'), ('a', 'DT'), ('first', 'JJ'), ('for', 'IN'), ('everything', 'NN'), ('That', 'DT'), ('is', 'VBZ'), ('fine', 'JJ'), (',', ','), ('but', 'CC'), ('...', ':'), ('Embarassing', 'NNP'), ('to', 'TO'), ('admit', 'VB'), (',', ','), ('after', 'IN'), ('having', 'VBG'), ('to', 'TO'), ('eventually', 'RB'), ('reread', 'VB'), ('the', 'DT'), ('manual', 'JJ'), ('a', 'DT'), ('sum', 'NN'), ('of', 'IN'), ('about', 'RB'), ('FOUR', 'NNP'), ('times', 'NNS'), ('and', 'CC'), ('still', 'RB'), ('not', 'RB'), ('understanding', 'VBG'), ('the', 'DT'), ('temperamental', 'JJ'), ('nature', 'NN'), ('of', 'IN'), ('this', 'DT'), ('beast', 'NN'), ('(', '('), ('since', 'IN'), ('it', 'PRP'), ('still', 'RB'), ('was', 'VBD'), ('not', 'RB'), ('performing', 'VBG'), ('as', 'IN'), ('predicted', 'VBN'), ('in', 'IN'), ('writing', 'VBG'), (')', ')'), (',', ','), ('I', 'PRP'), ('gave', 'VBD'), ('up', 'RP'), ('on', 'IN'), ('reading', 'NN'), ('.', '.'), ('I', 'PRP'), ('decided', 'VBD'), ('to', 'TO'), ('perservere', 'VB'), ('with', 'IN'), ('the', 'DT'), ('settings', 'NNS'), ('to', 'TO'), ('see', 'VB'), ('which', 'WDT'), ('would', 'MD'), ('happen', 'VB'), ('to', 'TO'), ('work', 'VB'), ('.', '.'), ('I', 'PRP'), ('was', 'VBD'), ('intent', 'NN'), ('on', 'IN'), ('having', 'VBG'), ('a', 'DT'), ('good', 'JJ'), ('working', 'NN'), ('relationship', 'NN'), ('with', 'IN'), ('my', 'PRP$'), ('new', 'JJ'), ('friend', 'NN'), (',', ','), ('but', 'CC'), ('alas', 'RB'), (',', ','), ('it', 'PRP'), ('did', 'VBD'), ('not', 'RB'), ('succeed', 'VB'), ('.', '.'), ('After', 'IN'), ('enough', 'JJ'), ('unsatisfactory', 'JJ'), ('shooting', 'NN'), ('experiences', 'NNS'), (',', ','), ('I', 'PRP'), ('soon', 'RB'), ('returned', 'VBD'), ('it.To', 'JJ'), ('begin', 'NN'), ('with', 'IN'), (',', ','), ('this', 'DT'), ('camera', 'NN'), ('was', 'VBD'), ('bulky', 'JJ'), ('and', 'CC'), ('awkward', 'JJ'), ('to', 'TO'), ('hold', 'VB'), (',', ','), ('giving', 'VBG'), ('me', 'PRP'), ('a', 'DT'), ('bit', 'NN'), ('of', 'IN'), ('the', 'DT'), ('shakies', 'NNS'), ('during', 'IN'), ('most', 'JJS'), ('shoots', 'NNS'), ('.', '.'), ('The', 'DT'), ('various', 'JJ'), ('button', 'NN'), ('positions', 'NNS'), ('for', 'IN'), ('the', 'DT'), ('settings', 'NNS'), ('were', 'VBD'), ('hardly', 'RB'), ('ergonomic', 'JJ'), ('--', ':'), ('more', 'RBR'), ('like', 'IN'), ('calisthenics', 'NNS'), ('(', '('), ('even', 'RB'), ('for', 'IN'), ('us', 'PRP'), ('piano', 'VBP'), ('players', 'NNS'), (')', ')'), ('.', '.'), ('When', 'WRB'), ('I', 'PRP'), ('needed', 'VBD'), ('to', 'TO'), ('ask', 'VB'), ('someone', 'NN'), ('else', 'RB'), ('to', 'TO'), ('take', 'VB'), ('a', 'DT'), ('picture', 'NN'), ('with', 'IN'), ('it', 'PRP'), ('of', 'IN'), ('me', 'PRP'), ('and', 'CC'), ('someone/thing', 'VBG'), ('else', 'RB'), (',', ','), ('I', 'PRP'), ('had', 'VBD'), ('to', 'TO'), ('give', 'VB'), ('a', 'DT'), ('five', 'CD'), ('minute', 'NN'), ('lesson', 'NN'), ('on', 'IN'), ('how', 'WRB'), ('to', 'TO'), ('use', 'VB'), ('it', 'PRP'), (',', ','), ('and', 'CC'), ('these', 'DT'), ('various', 'JJ'), ('individuals', 'NNS'), ('still', 'RB'), ('couldnt', 'VBP'), ('get', 'VB'), ('it', 'PRP'), ('to', 'TO'), ('shoot', 'VB'), ('no', 'DT'), ('matter', 'NN'), ('WHAT', 'WP'), ('setting', 'VBG'), ('they', 'PRP'), ('tried', 'VBD'), ('.', '.'), ('When', 'WRB'), ('it', 'PRP'), ('did', 'VBD'), ('take', 'VB'), ('the', 'DT'), ('picture', 'NN'), (',', ','), ('it', 'PRP'), ('took', 'VBD'), ('quite', 'RB'), ('a', 'DT'), ('while', 'NN'), ('to', 'TO'), ('complete', 'VB'), ('and', 'CC'), ('was', 'VBD'), ('rather', 'RB'), ('noisy.Often', 'JJ'), ('I', 'PRP'), ('had', 'VBD'), ('to', 'TO'), ('change', 'VB'), ('the', 'DT'), ('potential', 'JJ'), ('photos', 'NN'), ('composition', 'NN'), ('(', '('), ('if', 'IN'), ('not', 'RB'), ('photographable', 'JJ'), ('at', 'IN'), ('ANY', 'NNP'), ('setting', 'VBG'), ('combination', 'NN'), (')', ')'), ('to', 'TO'), ('less', 'JJR'), ('than', 'IN'), ('what', 'WP'), ('I', 'PRP'), ('desired', 'VBD'), ('.', '.'), ('Then', 'RB'), (',', ','), ('I', 'PRP'), ('usually', 'RB'), ('found', 'VBD'), ('only', 'RB'), ('ONE', 'CD'), ('least', 'JJS'), ('expected', 'JJ'), ('setting', 'NN'), ('that', 'WDT'), ('WOULD', 'NNP'), ('take', 'VB'), ('the', 'DT'), ('picture', 'NN'), ('.', '.'), ('When', 'WRB'), ('going', 'VBG'), ('through', 'IN'), ('these', 'DT'), ('jumping', 'NN'), ('jacks', 'NNS'), ('for', 'IN'), ('various', 'JJ'), ('focusing', 'VBG'), ('situations', 'NNS'), (',', ','), ('the', 'DT'), ('final', 'JJ'), ('pictures', 'NNS'), ('still', 'RB'), ('most', 'JJS'), ('commonly', 'RB'), ('came', 'VBD'), ('out', 'RP'), ('too', 'RB'), ('dark', 'JJ'), ('.', '.'), ('I', 'PRP'), ('WAS', 'VBP'), ('using', 'VBG'), ('the', 'DT'), ('right', 'NN'), ('film', 'NN'), ('speed', 'NN'), ('for', 'IN'), ('the', 'DT'), ('indoor', 'NN'), (',', ','), ('well-lit', 'JJ'), ('environment', 'NN'), ('according', 'VBG'), ('to', 'TO'), ('standard', 'JJ'), ('guidelines', 'NNS'), ('Ive', 'NNP'), ('followed', 'VBD'), ('for', 'IN'), ('yearswith', 'NN'), ('no', 'DT'), ('trouble', 'NN'), ('.', '.'), ('Even', 'RB'), ('in', 'IN'), ('the', 'DT'), ('few', 'JJ'), ('pictures', 'NNS'), ('that', 'WDT'), ('did', 'VBD'), ('turn', 'VB'), ('out', 'RP'), ('visibly', 'RB'), ('discernable', 'JJ'), (',', ','), ('the', 'DT'), ('subject', 'NN'), ('in', 'IN'), ('the', 'DT'), ('foreground', 'NN'), ('looked', 'VBD'), ('way', 'NN'), ('too', 'RB'), ('overexposed', 'JJ'), ('and', 'CC'), ('the', 'DT'), ('background', 'NN'), ('unnecessarily', 'JJ'), ('way', 'NN'), ('too', 'RB'), ('dark', 'JJ'), ('.', '.'), ('Weird', 'JJ'), ('flash', 'NN'), ('on', 'IN'), ('this', 'DT'), ('guy', 'NN'), ('.', '.'), ('After', 'IN'), ('briefly', 'NN'), ('using', 'VBG'), ('someones', 'NNS'), ('manual', 'JJ'), ('camera', 'NN'), ('a', 'DT'), ('few', 'JJ'), ('years', 'NNS'), ('ago', 'RB'), (',', ','), ('I', 'PRP'), ('am', 'VBP'), ('convinced', 'VBN'), ('that', 'IN'), ('the', 'DT'), ('old', 'JJ'), ('archaic', 'JJ'), ('complexities', 'NNS'), ('of', 'IN'), ('shooting', 'VBG'), ('with', 'IN'), ('those', 'DT'), ('cameras', 'NNS'), ('are', 'VBP'), ('in', 'IN'), ('the', 'DT'), ('end', 'NN'), ('EASIER', 'NNP'), ('to', 'TO'), ('use', 'VB'), ('than', 'IN'), ('some', 'DT'), ('of', 'IN'), ('todays', 'NNS'), ('overly-programmed', 'JJ'), (',', ','), ('auto-smart', 'JJ'), ('cameras.The', 'NN'), ('major', 'JJ'), ('reason', 'NN'), ('why', 'WRB'), ('I', 'PRP'), ('bought', 'VBD'), ('my', 'PRP$'), ('first', 'JJ'), ('Olympus', 'NNP'), ('is', 'VBZ'), ('because', 'IN'), ('of', 'IN'), ('their', 'PRP$'), ('rare', 'JJ'), ('use', 'NN'), ('of', 'IN'), ('a', 'DT'), ('total', 'JJ'), ('glass', 'NN'), ('lenses', 'NNS'), (',', ','), ('enhancing', 'VBG'), ('color', 'NN'), ('results', 'NNS'), ('.', '.'), ('The', 'DT'), ('colors', 'NNS'), ('in', 'IN'), ('the', 'DT'), ('few', 'JJ'), ('pictures', 'NNS'), ('(', '('), ('after', 'IN'), ('working', 'VBG'), ('through', 'IN'), ('many', 'JJ'), ('rolls', 'NNS'), (')', ')'), ('that', 'WDT'), ('DID', 'NNP'), ('come', 'VB'), ('out', 'RP'), ('were', 'VBD'), ('so', 'RB'), ('extreme', 'JJ'), ('and', 'CC'), ('bright', 'JJ'), ('in', 'IN'), ('contrast', 'NN'), ('that', 'IN'), ('they', 'PRP'), ('looked', 'VBD'), ('ridiculous', 'JJ'), ('to', 'TO'), ('me', 'PRP'), ('.', '.'), ('I', 'PRP'), ('also', 'RB'), ('had', 'VBD'), ('those', 'DT'), ('rolls', 'NNS'), ('processed', 'VBD'), ('simultaneously', 'RB'), ('with', 'IN'), ('film', 'NN'), ('from', 'IN'), ('another', 'DT'), ('camera', 'NN'), (';', ':'), ('and', 'CC'), (',', ','), ('those', 'DT'), ('pictures', 'NNS'), ('did', 'VBD'), ('not', 'RB'), ('show', 'VB'), ('those', 'DT'), ('same', 'JJ'), ('color', 'NN'), ('results', 'NNS'), ('.', '.'), ('So', 'RB'), (',', ','), ('I', 'PRP'), ('probably', 'RB'), ('cant', 'VBP'), ('blame', 'VB'), ('the', 'DT'), ('developer.Unsatisfied', 'NN'), ('.', '.'), ('NOT', 'CC'), ('a', 'DT'), ('user', 'JJ'), ('friendly', 'JJ'), ('step-up', 'NN'), ('from', 'IN'), ('your', 'PRP$'), ('basic', 'JJ'), ('three-setting', 'JJ'), ('zoom', 'NN'), ('cameras', 'NNS'), ('.', '.'), ('Im', 'NNP'), ('amazed', 'VBD'), ('that', 'IN'), ('anyone', 'NN'), ('can', 'MD'), ('get', 'VB'), ('good', 'JJ'), ('results', 'NNS'), ('with', 'IN'), ('this', 'DT'), ('otherwise', 'RB'), ('cute', 'JJ'), ('camera', 'NN'), (',', ','), ('and', 'CC'), ('actually', 'RB'), ('admire', 'VB'), ('the', 'DT'), ('picture', 'NN'), ('quality', 'NN'), ('.', '.')]\n",
      "\n",
      "JJ\n",
      "\n",
      "PRP$ JJ RB JJ NN , CC WP DT NN IN DT JJ NN RB IN PRP$ NN , PRP VBD TO VB DT NN JJ TO VB RP DT JJ NN : ( DT RB IN NN NN VBN NNS , VBD NNP , NNP , JJ NN NNS , NNP NNS , NNS , CC VBD JJ NNS IN DT NN IN DT JJ NN ) . UH , VBZ DT JJ IN NN DT VBZ JJ , CC : NNP TO VB , IN VBG TO RB VB DT JJ DT NN IN RB NNP NNS CC RB RB VBG DT JJ NN IN DT NN ( IN PRP RB VBD RB VBG IN VBN IN VBG ) , PRP VBD RP IN NN . PRP VBD TO VB IN DT NNS TO VB WDT MD VB TO VB . PRP VBD NN IN VBG DT JJ NN NN IN PRP$ JJ NN , CC RB , PRP VBD RB VB . IN JJ JJ NN NNS , PRP RB VBD JJ NN IN , DT NN VBD JJ CC JJ TO VB , VBG PRP DT NN IN DT NNS IN JJS NNS . DT JJ NN NNS IN DT NNS VBD RB JJ : RBR IN NNS ( RB IN PRP VBP NNS ) . WRB PRP VBD TO VB NN RB TO VB DT NN IN PRP IN PRP CC VBG RB , PRP VBD TO VB DT CD NN NN IN WRB TO VB PRP , CC DT JJ NNS RB VBP VB PRP TO VB DT NN WP VBG PRP VBD . WRB PRP VBD VB DT NN , PRP VBD RB DT NN TO VB CC VBD RB JJ PRP VBD TO VB DT JJ NN NN ( IN RB JJ IN NNP VBG NN ) TO JJR IN WP PRP VBD . RB , PRP RB VBD RB CD JJS JJ NN WDT NNP VB DT NN . WRB VBG IN DT NN NNS IN JJ VBG NNS , DT JJ NNS RB JJS RB VBD RP RB JJ . PRP VBP VBG DT NN NN NN IN DT NN , JJ NN VBG TO JJ NNS NNP VBD IN NN DT NN . RB IN DT JJ NNS WDT VBD VB RP RB JJ , DT NN IN DT NN VBD NN RB JJ CC DT NN JJ NN RB JJ . JJ NN IN DT NN . IN NN VBG NNS JJ NN DT JJ NNS RB , PRP VBP VBN IN DT JJ JJ NNS IN VBG IN DT NNS VBP IN DT NN NNP TO VB IN DT IN NNS JJ , JJ NN JJ NN WRB PRP VBD PRP$ JJ NNP VBZ IN IN PRP$ JJ NN IN DT JJ NN NNS , VBG NN NNS . DT NNS IN DT JJ NNS ( IN VBG IN JJ NNS ) WDT NNP VB RP VBD RB JJ CC JJ IN NN IN PRP VBD JJ TO PRP . PRP RB VBD DT NNS VBD RB IN NN IN DT NN : CC , DT NNS VBD RB VB DT JJ NN NNS . RB , PRP RB VBP VB DT NN . CC DT JJ JJ NN IN PRP$ JJ JJ NN NNS . NNP VBD IN NN MD VB JJ NNS IN DT RB JJ NN , CC RB VB DT NN NN .\n"
     ]
    }
   ],
   "source": [
    "######## START CONVERSION: Convert data to POS tags\n",
    "txt = nltk.word_tokenize(X[0])\n",
    "print(txt)\n",
    "txt = nltk.pos_tag(txt)\n",
    "print(txt)\n",
    "print()\n",
    "print(txt[1][1])\n",
    "print()\n",
    "x_data = []\n",
    "for i in range(len(txt)):\n",
    "    x_data.append(txt[i][1])\n",
    "txt = x_data\n",
    "print(' '.join(txt))"
   ]
  },
  {
   "cell_type": "code",
   "execution_count": 7,
   "metadata": {},
   "outputs": [
    {
     "name": "stdout",
     "output_type": "stream",
     "text": [
      "Update: 0\n"
     ]
    }
   ],
   "source": [
    "X_pos = []\n",
    "for i in range(len(df)):\n",
    "    if (i % 1000 == 0):\n",
    "        print(\"Update:\", i) # Check spot in data converter process\n",
    "    txt = nltk.word_tokenize(X[i])\n",
    "    txt = nltk.pos_tag(txt)\n",
    "    x_data = []\n",
    "    for j in range(len(txt)):\n",
    "        x_data.append(txt[j][1])\n",
    "    txt = ' '.join(x_data)\n",
    "    X_pos.append(txt)\n",
    "X = X_pos\n",
    "df[data_col] = X\n",
    "######### END CONVERSTION"
   ]
  },
  {
   "cell_type": "code",
   "execution_count": 8,
   "metadata": {},
   "outputs": [
    {
     "name": "stdout",
     "output_type": "stream",
     "text": [
      "Train data amount: 80\n",
      "Test data amount: 20\n"
     ]
    }
   ],
   "source": [
    "X_train, X_test, Y_train, Y_test = train_test_split(\n",
    " X, Y, test_size=0.2, random_state=1, stratify=df[label_col])\n",
    "print(\"Train data amount:\", len(X_train))\n",
    "print(\"Test data amount:\", len(X_test))"
   ]
  },
  {
   "cell_type": "code",
   "execution_count": 9,
   "metadata": {},
   "outputs": [],
   "source": [
    "### Stemming\n",
    "# from nltk.stem import *\n",
    "# stemmer = PorterStemmer()\n",
    "# new_xtr2 = []\n",
    "# new_xte2 = []\n",
    "# for sent in X_train:\n",
    "#     sent = nltk.word_tokenize(sent)\n",
    "#     sent = [stemmer.stem(w) for w in sent]\n",
    "#     sent = \" \".join(sent)\n",
    "#     new_xtr2.append(sent)\n",
    "# X_train = new_xtr2\n",
    "# for sent in X_test:\n",
    "#     sent = nltk.word_tokenize(sent)\n",
    "#     sent = [stemmer.stem(w) for w in sent]\n",
    "#     sent = \" \".join(sent)\n",
    "#     new_xte2.append(sent)\n",
    "# X_test = new_xte2\n",
    "# all_data = X_train + X_test"
   ]
  },
  {
   "cell_type": "markdown",
   "metadata": {},
   "source": [
    "## Logistic Regression Classifier:"
   ]
  },
  {
   "cell_type": "code",
   "execution_count": 10,
   "metadata": {},
   "outputs": [],
   "source": [
    "#### Logistic Regression\n",
    "text_clf_log = Pipeline([('vect', CountVectorizer()),\n",
    " ('tfidf', TfidfTransformer()),\n",
    " ('clf-log', LogisticRegression(solver='liblinear')),\n",
    "])"
   ]
  },
  {
   "cell_type": "code",
   "execution_count": 11,
   "metadata": {},
   "outputs": [],
   "source": [
    "text_clf_log = text_clf_log.fit(X_train,Y_train)"
   ]
  },
  {
   "cell_type": "code",
   "execution_count": 12,
   "metadata": {},
   "outputs": [
    {
     "name": "stdout",
     "output_type": "stream",
     "text": [
      "Accuracy: 0.75\n",
      "[[9 2]\n",
      " [3 6]]\n"
     ]
    }
   ],
   "source": [
    "predicted_log = text_clf_log.predict(X_test)\n",
    "accuracy = np.mean(predicted_log == Y_test)\n",
    "print(\"Accuracy:\", accuracy)\n",
    "cm = confusion_matrix(Y_test, predicted_log)\n",
    "print(cm)"
   ]
  },
  {
   "cell_type": "code",
   "execution_count": 13,
   "metadata": {},
   "outputs": [
    {
     "name": "stdout",
     "output_type": "stream",
     "text": [
      "Confusion Matrix:\n",
      "[[9 2]\n",
      " [3 6]]\n"
     ]
    },
    {
     "data": {
      "image/png": "[encoded data removed]",
      "text/plain": [
       "<Figure size 432x288 with 2 Axes>"
      ]
     },
     "metadata": {
      "needs_background": "light"
     },
     "output_type": "display_data"
    },
    {
     "name": "stdout",
     "output_type": "stream",
     "text": [
      "              precision    recall  f1-score   support\n",
      "\n",
      "       False       0.75      0.82      0.78        11\n",
      "        True       0.75      0.67      0.71         9\n",
      "\n",
      "    accuracy                           0.75        20\n",
      "   macro avg       0.75      0.74      0.74        20\n",
      "weighted avg       0.75      0.75      0.75        20\n",
      "\n"
     ]
    }
   ],
   "source": [
    "## Graphical visualization\n",
    "cnf_matrix = confusion_matrix(Y_test, predicted_log)\n",
    "plt.figure()\n",
    "class_names = ['False', 'True']\n",
    "plot_confusion_matrix(cnf_matrix, classes=class_names,\n",
    "                      Y_test = Y_test, predictions = predicted_log,\n",
    "                      title='Confusion matrix')"
   ]
  },
  {
   "cell_type": "markdown",
   "metadata": {},
   "source": [
    "### Gridsearch: Logistic Regression"
   ]
  },
  {
   "cell_type": "code",
   "execution_count": 14,
   "metadata": {},
   "outputs": [],
   "source": [
    "#### Gridsearch\n",
    "parameters = {'vect__ngram_range': [(1, 1), (1, 2)],\n",
    "              #'tfidf__use_idf': (True, False),\n",
    "              'clf-log__C': (10, 1, 1e-1),\n",
    "              'clf-log__solver': ('liblinear', 'newton-cg', 'lbfgs'),\n",
    "    }"
   ]
  },
  {
   "cell_type": "code",
   "execution_count": 15,
   "metadata": {},
   "outputs": [
    {
     "data": {
      "text/plain": [
       "dict_keys(['memory', 'steps', 'verbose', 'vect', 'tfidf', 'clf-log', 'vect__analyzer', 'vect__binary', 'vect__decode_error', 'vect__dtype', 'vect__encoding', 'vect__input', 'vect__lowercase', 'vect__max_df', 'vect__max_features', 'vect__min_df', 'vect__ngram_range', 'vect__preprocessor', 'vect__stop_words', 'vect__strip_accents', 'vect__token_pattern', 'vect__tokenizer', 'vect__vocabulary', 'tfidf__norm', 'tfidf__smooth_idf', 'tfidf__sublinear_tf', 'tfidf__use_idf', 'clf-log__C', 'clf-log__class_weight', 'clf-log__dual', 'clf-log__fit_intercept', 'clf-log__intercept_scaling', 'clf-log__l1_ratio', 'clf-log__max_iter', 'clf-log__multi_class', 'clf-log__n_jobs', 'clf-log__penalty', 'clf-log__random_state', 'clf-log__solver', 'clf-log__tol', 'clf-log__verbose', 'clf-log__warm_start'])"
      ]
     },
     "execution_count": 15,
     "metadata": {},
     "output_type": "execute_result"
    }
   ],
   "source": [
    "text_clf_log.get_params().keys()"
   ]
  },
  {
   "cell_type": "code",
   "execution_count": 16,
   "metadata": {},
   "outputs": [
    {
     "name": "stderr",
     "output_type": "stream",
     "text": [
      "C:\\Users\\Yunkai\\AppData\\Roaming\\Python\\Python36\\site-packages\\sklearn\\model_selection\\_search.py:814: DeprecationWarning: The default of the `iid` parameter will change from True to False in version 0.22 and will be removed in 0.24. This will change numeric results when test-set sizes are unequal.\n",
      "  DeprecationWarning)\n"
     ]
    }
   ],
   "source": [
    "## Cross-validation and fit\n",
    "gs_clf_log = GridSearchCV(text_clf_log, parameters, cv=5, n_jobs=-1)\n",
    "gs_clf_log = gs_clf_log.fit(X_train,Y_train)\n",
    "predicted_gs = gs_clf_log.predict(X_test)\n",
    "accuracy = np.mean(predicted_gs == Y_test)"
   ]
  },
  {
   "cell_type": "code",
   "execution_count": 17,
   "metadata": {},
   "outputs": [
    {
     "name": "stdout",
     "output_type": "stream",
     "text": [
      "Grid search best score: 0.7875\n",
      "{'clf-log__C': 10, 'clf-log__solver': 'liblinear', 'vect__ngram_range': (1, 2)}\n",
      "Accuracy: 0.7\n"
     ]
    }
   ],
   "source": [
    "print(\"Grid search best score:\", gs_clf_log.best_score_)\n",
    "print(gs_clf_log.best_params_)\n",
    "print(\"Accuracy:\", accuracy)"
   ]
  },
  {
   "cell_type": "code",
   "execution_count": 18,
   "metadata": {},
   "outputs": [
    {
     "name": "stdout",
     "output_type": "stream",
     "text": [
      "Confusion Matrix:\n",
      "[[6 5]\n",
      " [1 8]]\n"
     ]
    },
    {
     "data": {
      "image/png": "[encoded data removed]",
      "text/plain": [
       "<Figure size 432x288 with 2 Axes>"
      ]
     },
     "metadata": {
      "needs_background": "light"
     },
     "output_type": "display_data"
    },
    {
     "name": "stdout",
     "output_type": "stream",
     "text": [
      "              precision    recall  f1-score   support\n",
      "\n",
      "       False       0.86      0.55      0.67        11\n",
      "        True       0.62      0.89      0.73         9\n",
      "\n",
      "    accuracy                           0.70        20\n",
      "   macro avg       0.74      0.72      0.70        20\n",
      "weighted avg       0.75      0.70      0.69        20\n",
      "\n"
     ]
    }
   ],
   "source": [
    "## Graphical visualization\n",
    "cnf_matrix = confusion_matrix(Y_test, predicted_gs)\n",
    "plt.figure()\n",
    "class_names = ['False', 'True']\n",
    "plot_confusion_matrix(cnf_matrix, classes=class_names,\n",
    "                      Y_test = Y_test, predictions = predicted_gs,\n",
    "                      title='Confusion matrix')"
   ]
  },
  {
   "cell_type": "markdown",
   "metadata": {},
   "source": [
    "## Random Forest Classifier"
   ]
  },
  {
   "cell_type": "code",
   "execution_count": 19,
   "metadata": {},
   "outputs": [],
   "source": [
    "#### Random Forest\n",
    "text_clf_rfc = Pipeline([('vect', CountVectorizer()),\n",
    " ('tfidf', TfidfTransformer()),\n",
    " ('clf-rfc', RandomForestClassifier(n_estimators=200, max_depth=3, random_state=42)),\n",
    "])"
   ]
  },
  {
   "cell_type": "code",
   "execution_count": 20,
   "metadata": {},
   "outputs": [],
   "source": [
    "text_clf_rfc = text_clf_rfc.fit(X_train,Y_train)"
   ]
  },
  {
   "cell_type": "code",
   "execution_count": 21,
   "metadata": {},
   "outputs": [
    {
     "name": "stdout",
     "output_type": "stream",
     "text": [
      "Accuracy: 0.75\n",
      "[[9 2]\n",
      " [3 6]]\n"
     ]
    }
   ],
   "source": [
    "predicted_rfc = text_clf_rfc.predict(X_test)\n",
    "accuracy = np.mean(predicted_rfc == Y_test)\n",
    "print(\"Accuracy:\", accuracy)\n",
    "cm = confusion_matrix(Y_test, predicted_rfc)\n",
    "print(cm)"
   ]
  },
  {
   "cell_type": "code",
   "execution_count": 22,
   "metadata": {},
   "outputs": [
    {
     "name": "stdout",
     "output_type": "stream",
     "text": [
      "Confusion Matrix:\n",
      "[[9 2]\n",
      " [3 6]]\n"
     ]
    },
    {
     "data": {
      "image/png": "[encoded data removed]",
      "text/plain": [
       "<Figure size 432x288 with 2 Axes>"
      ]
     },
     "metadata": {
      "needs_background": "light"
     },
     "output_type": "display_data"
    },
    {
     "name": "stdout",
     "output_type": "stream",
     "text": [
      "              precision    recall  f1-score   support\n",
      "\n",
      "       False       0.75      0.82      0.78        11\n",
      "        True       0.75      0.67      0.71         9\n",
      "\n",
      "    accuracy                           0.75        20\n",
      "   macro avg       0.75      0.74      0.74        20\n",
      "weighted avg       0.75      0.75      0.75        20\n",
      "\n"
     ]
    }
   ],
   "source": [
    "## Graphical visualization\n",
    "cnf_matrix = confusion_matrix(Y_test, predicted_rfc)\n",
    "plt.figure()\n",
    "class_names = ['False', 'True']\n",
    "plot_confusion_matrix(cnf_matrix, classes=class_names,\n",
    "                      Y_test = Y_test, predictions = predicted_rfc,\n",
    "                      title='Confusion matrix')"
   ]
  },
  {
   "cell_type": "markdown",
   "metadata": {},
   "source": [
    "### Gridsearch: Random Forest"
   ]
  },
  {
   "cell_type": "code",
   "execution_count": 23,
   "metadata": {},
   "outputs": [],
   "source": [
    "#### Gridsearch\n",
    "parameters = {'vect__ngram_range': [(1, 1), (1, 2)],\n",
    "              #'tfidf__use_idf': (True, False),\n",
    "              'clf-rfc__max_depth': (2, 3, 4),\n",
    "              'clf-rfc__criterion': (\"gini\", \"entropy\"),\n",
    "              'clf-rfc__n_estimators': (100, 200, 300),\n",
    "    }"
   ]
  },
  {
   "cell_type": "code",
   "execution_count": 24,
   "metadata": {},
   "outputs": [
    {
     "data": {
      "text/plain": [
       "dict_keys(['memory', 'steps', 'verbose', 'vect', 'tfidf', 'clf-rfc', 'vect__analyzer', 'vect__binary', 'vect__decode_error', 'vect__dtype', 'vect__encoding', 'vect__input', 'vect__lowercase', 'vect__max_df', 'vect__max_features', 'vect__min_df', 'vect__ngram_range', 'vect__preprocessor', 'vect__stop_words', 'vect__strip_accents', 'vect__token_pattern', 'vect__tokenizer', 'vect__vocabulary', 'tfidf__norm', 'tfidf__smooth_idf', 'tfidf__sublinear_tf', 'tfidf__use_idf', 'clf-rfc__bootstrap', 'clf-rfc__class_weight', 'clf-rfc__criterion', 'clf-rfc__max_depth', 'clf-rfc__max_features', 'clf-rfc__max_leaf_nodes', 'clf-rfc__min_impurity_decrease', 'clf-rfc__min_impurity_split', 'clf-rfc__min_samples_leaf', 'clf-rfc__min_samples_split', 'clf-rfc__min_weight_fraction_leaf', 'clf-rfc__n_estimators', 'clf-rfc__n_jobs', 'clf-rfc__oob_score', 'clf-rfc__random_state', 'clf-rfc__verbose', 'clf-rfc__warm_start'])"
      ]
     },
     "execution_count": 24,
     "metadata": {},
     "output_type": "execute_result"
    }
   ],
   "source": [
    "text_clf_rfc.get_params().keys()"
   ]
  },
  {
   "cell_type": "code",
   "execution_count": 25,
   "metadata": {},
   "outputs": [
    {
     "name": "stderr",
     "output_type": "stream",
     "text": [
      "C:\\Users\\Yunkai\\AppData\\Roaming\\Python\\Python36\\site-packages\\sklearn\\model_selection\\_search.py:814: DeprecationWarning: The default of the `iid` parameter will change from True to False in version 0.22 and will be removed in 0.24. This will change numeric results when test-set sizes are unequal.\n",
      "  DeprecationWarning)\n"
     ]
    }
   ],
   "source": [
    "## Cross-validation and fit\n",
    "gs_clf_rfc = GridSearchCV(text_clf_rfc, parameters, cv=5, n_jobs=-1)\n",
    "gs_clf_rfc = gs_clf_rfc.fit(X_train,Y_train)\n",
    "predicted_gs = gs_clf_rfc.predict(X_test)\n",
    "accuracy = np.mean(predicted_gs == Y_test)"
   ]
  },
  {
   "cell_type": "code",
   "execution_count": 26,
   "metadata": {},
   "outputs": [
    {
     "name": "stdout",
     "output_type": "stream",
     "text": [
      "Grid search best score: 0.7875\n",
      "{'clf-rfc__criterion': 'entropy', 'clf-rfc__max_depth': 2, 'clf-rfc__n_estimators': 300, 'vect__ngram_range': (1, 2)}\n",
      "Accuracy: 0.85\n"
     ]
    }
   ],
   "source": [
    "print(\"Grid search best score:\", gs_clf_rfc.best_score_)\n",
    "print(gs_clf_rfc.best_params_)\n",
    "print(\"Accuracy:\", accuracy)"
   ]
  },
  {
   "cell_type": "code",
   "execution_count": 27,
   "metadata": {
    "scrolled": false
   },
   "outputs": [
    {
     "name": "stdout",
     "output_type": "stream",
     "text": [
      "Confusion Matrix:\n",
      "[[11  0]\n",
      " [ 3  6]]\n"
     ]
    },
    {
     "data": {
      "image/png": "[encoded data removed]",
      "text/plain": [
       "<Figure size 432x288 with 2 Axes>"
      ]
     },
     "metadata": {
      "needs_background": "light"
     },
     "output_type": "display_data"
    },
    {
     "name": "stdout",
     "output_type": "stream",
     "text": [
      "              precision    recall  f1-score   support\n",
      "\n",
      "       False       0.79      1.00      0.88        11\n",
      "        True       1.00      0.67      0.80         9\n",
      "\n",
      "    accuracy                           0.85        20\n",
      "   macro avg       0.89      0.83      0.84        20\n",
      "weighted avg       0.88      0.85      0.84        20\n",
      "\n"
     ]
    }
   ],
   "source": [
    "## Graphical visualization\n",
    "cnf_matrix = confusion_matrix(Y_test, predicted_gs)\n",
    "plt.figure()\n",
    "class_names = ['False', 'True']\n",
    "plot_confusion_matrix(cnf_matrix, classes=class_names,\n",
    "                      Y_test = Y_test, predictions = predicted_gs,\n",
    "                      title='Confusion matrix')"
   ]
  },
  {
   "cell_type": "code",
   "execution_count": 28,
   "metadata": {},
   "outputs": [
    {
     "name": "stderr",
     "output_type": "stream",
     "text": [
      "C:\\Users\\Yunkai\\AppData\\Roaming\\Python\\Python36\\site-packages\\sklearn\\model_selection\\_search.py:814: DeprecationWarning: The default of the `iid` parameter will change from True to False in version 0.22 and will be removed in 0.24. This will change numeric results when test-set sizes are unequal.\n",
      "  DeprecationWarning)\n"
     ]
    },
    {
     "data": {
      "text/plain": [
       "array([[0.62243508, 0.37756492],\n",
       "       [0.3999941 , 0.6000059 ],\n",
       "       [0.58851948, 0.41148052],\n",
       "       [0.18181595, 0.81818405],\n",
       "       [0.63318048, 0.36681952],\n",
       "       [0.53557871, 0.46442129],\n",
       "       [0.82846495, 0.17153505],\n",
       "       [0.71416333, 0.28583667],\n",
       "       [0.32939194, 0.67060806],\n",
       "       [0.51153851, 0.48846149],\n",
       "       [0.7084329 , 0.2915671 ],\n",
       "       [0.82846495, 0.17153505],\n",
       "       [0.40610108, 0.59389892],\n",
       "       [0.63015703, 0.36984297],\n",
       "       [0.6637247 , 0.3362753 ],\n",
       "       [0.29685687, 0.70314313],\n",
       "       [0.42601994, 0.57398006],\n",
       "       [0.58456035, 0.41543965],\n",
       "       [0.71124609, 0.28875391],\n",
       "       [0.5923829 , 0.4076171 ]])"
      ]
     },
     "execution_count": 28,
     "metadata": {},
     "output_type": "execute_result"
    }
   ],
   "source": [
    "gs_clf_rfc = GridSearchCV(text_clf_rfc, parameters, cv=5, n_jobs=-1)\n",
    "gs_clf_rfc = gs_clf_rfc.fit(X_train,Y_train)\n",
    "predicted_gs = gs_clf_rfc.predict_proba(X_test)\n",
    "predicted_gs"
   ]
  },
  {
   "cell_type": "code",
   "execution_count": 29,
   "metadata": {},
   "outputs": [
    {
     "name": "stdout",
     "output_type": "stream",
     "text": [
      "Tagged_Data_Values.csv\n",
      "review_body    object\n",
      "dtype: object\n",
      "Sample size: 100\n",
      "                                         review_body\n",
      "0                Love it works awesome on my Sony A7\n",
      "1  I would not to recommend to anybody to but the...\n",
      "2  This bag has good cushioning and the insert in...\n",
      "3  While this camera seems pretty good, please be...\n",
      "4  This let me add 3 additional lens from an old ...\n"
     ]
    }
   ],
   "source": [
    "file_in = \"Tagged_Data_Values.csv\"\n",
    "df_unlabeled = pd.read_csv(file_in)\n",
    "df_unlabeled = df_unlabeled[['review_body']]\n",
    "df_unlabeled = df_unlabeled.dropna()\n",
    "df_unlabeled = df_unlabeled[1000:2000]\n",
    "df_unlabeled = df_unlabeled.reset_index()\n",
    "df_unlabeled = df_unlabeled.drop(columns = ['index'])\n",
    "\n",
    "print(file_in)\n",
    "print(df_unlabeled.dtypes)\n",
    "print(\"Sample size:\", len(df))\n",
    "print(df_unlabeled.head(5))"
   ]
  },
  {
   "cell_type": "code",
   "execution_count": 30,
   "metadata": {},
   "outputs": [
    {
     "name": "stdout",
     "output_type": "stream",
     "text": [
      "Update: 0\n"
     ]
    }
   ],
   "source": [
    "X_unlabeled = df_unlabeled[data_col]\n",
    "X_unlabeled_pos = []\n",
    "for i in range(len(df_unlabeled)):\n",
    "    if (i % 1000 == 0):\n",
    "        print(\"Update:\", i) # Check spot in data converter process\n",
    "    txt = nltk.word_tokenize(X_unlabeled[i])\n",
    "    txt = nltk.pos_tag(txt)\n",
    "    x_data = []\n",
    "    for j in range(len(txt)):\n",
    "        x_data.append(txt[j][1])\n",
    "    txt = ' '.join(x_data)\n",
    "    X_unlabeled_pos.append(txt)\n",
    "X_unlabeled = X_unlabeled_pos\n",
    "######### END CONVERSTION"
   ]
  },
  {
   "cell_type": "code",
   "execution_count": 31,
   "metadata": {},
   "outputs": [
    {
     "data": {
      "text/plain": [
       "1000"
      ]
     },
     "execution_count": 31,
     "metadata": {},
     "output_type": "execute_result"
    }
   ],
   "source": [
    "len(X_unlabeled)"
   ]
  },
  {
   "cell_type": "code",
   "execution_count": 32,
   "metadata": {},
   "outputs": [],
   "source": [
    "predicted_gs = gs_clf_rfc.predict_proba(X_unlabeled)"
   ]
  },
  {
   "cell_type": "code",
   "execution_count": 33,
   "metadata": {},
   "outputs": [
    {
     "data": {
      "text/plain": [
       "357"
      ]
     },
     "execution_count": 33,
     "metadata": {},
     "output_type": "execute_result"
    }
   ],
   "source": [
    "to_be_labeled_index = []\n",
    "index = 0\n",
    "for proba in predicted_gs:\n",
    "    if proba[0] > 0.4 and proba[0] < 0.6:\n",
    "        to_be_labeled_index.append(index)\n",
    "    index += 1\n",
    "len(to_be_labeled_index)"
   ]
  },
  {
   "cell_type": "code",
   "execution_count": 34,
   "metadata": {},
   "outputs": [
    {
     "data": {
      "text/plain": [
       "[1,\n",
       " 4,\n",
       " 7,\n",
       " 9,\n",
       " 23,\n",
       " 27,\n",
       " 29,\n",
       " 32,\n",
       " 35,\n",
       " 37,\n",
       " 41,\n",
       " 44,\n",
       " 46,\n",
       " 47,\n",
       " 50,\n",
       " 54,\n",
       " 58,\n",
       " 60,\n",
       " 62,\n",
       " 65,\n",
       " 72,\n",
       " 73,\n",
       " 74,\n",
       " 77,\n",
       " 80,\n",
       " 88,\n",
       " 92,\n",
       " 96,\n",
       " 97,\n",
       " 98,\n",
       " 100,\n",
       " 101,\n",
       " 105,\n",
       " 108,\n",
       " 109,\n",
       " 110,\n",
       " 111,\n",
       " 112,\n",
       " 113,\n",
       " 114,\n",
       " 115,\n",
       " 117,\n",
       " 118,\n",
       " 120,\n",
       " 128,\n",
       " 129,\n",
       " 130,\n",
       " 131,\n",
       " 135,\n",
       " 136,\n",
       " 139,\n",
       " 144,\n",
       " 145,\n",
       " 149,\n",
       " 153,\n",
       " 154,\n",
       " 155,\n",
       " 158,\n",
       " 164,\n",
       " 169,\n",
       " 170,\n",
       " 175,\n",
       " 178,\n",
       " 180,\n",
       " 184,\n",
       " 185,\n",
       " 186,\n",
       " 187,\n",
       " 188,\n",
       " 189,\n",
       " 193,\n",
       " 194,\n",
       " 199,\n",
       " 202,\n",
       " 203,\n",
       " 205,\n",
       " 211,\n",
       " 214,\n",
       " 220,\n",
       " 221,\n",
       " 224,\n",
       " 231,\n",
       " 235,\n",
       " 236,\n",
       " 244,\n",
       " 246,\n",
       " 248,\n",
       " 253,\n",
       " 258,\n",
       " 259,\n",
       " 263,\n",
       " 269,\n",
       " 273,\n",
       " 274,\n",
       " 276,\n",
       " 277,\n",
       " 280,\n",
       " 281,\n",
       " 283,\n",
       " 285,\n",
       " 289,\n",
       " 302,\n",
       " 316,\n",
       " 324,\n",
       " 328,\n",
       " 336,\n",
       " 337,\n",
       " 340,\n",
       " 342,\n",
       " 344,\n",
       " 347,\n",
       " 348,\n",
       " 350,\n",
       " 353,\n",
       " 355,\n",
       " 357,\n",
       " 358,\n",
       " 359,\n",
       " 362,\n",
       " 368,\n",
       " 370,\n",
       " 371,\n",
       " 373,\n",
       " 374,\n",
       " 376,\n",
       " 382,\n",
       " 383,\n",
       " 385,\n",
       " 386,\n",
       " 387,\n",
       " 388,\n",
       " 391,\n",
       " 392,\n",
       " 393,\n",
       " 399,\n",
       " 400,\n",
       " 403,\n",
       " 405,\n",
       " 411,\n",
       " 418,\n",
       " 421,\n",
       " 422,\n",
       " 428,\n",
       " 431,\n",
       " 432,\n",
       " 434,\n",
       " 435,\n",
       " 439,\n",
       " 444,\n",
       " 447,\n",
       " 450,\n",
       " 452,\n",
       " 455,\n",
       " 457,\n",
       " 460,\n",
       " 463,\n",
       " 464,\n",
       " 465,\n",
       " 466,\n",
       " 468,\n",
       " 469,\n",
       " 471,\n",
       " 472,\n",
       " 477,\n",
       " 479,\n",
       " 486,\n",
       " 488,\n",
       " 489,\n",
       " 491,\n",
       " 494,\n",
       " 497,\n",
       " 499,\n",
       " 503,\n",
       " 505,\n",
       " 506,\n",
       " 512,\n",
       " 514,\n",
       " 516,\n",
       " 518,\n",
       " 520,\n",
       " 521,\n",
       " 522,\n",
       " 529,\n",
       " 532,\n",
       " 533,\n",
       " 540,\n",
       " 541,\n",
       " 543,\n",
       " 546,\n",
       " 550,\n",
       " 551,\n",
       " 552,\n",
       " 556,\n",
       " 557,\n",
       " 560,\n",
       " 563,\n",
       " 565,\n",
       " 568,\n",
       " 569,\n",
       " 571,\n",
       " 572,\n",
       " 578,\n",
       " 579,\n",
       " 580,\n",
       " 581,\n",
       " 583,\n",
       " 584,\n",
       " 585,\n",
       " 586,\n",
       " 591,\n",
       " 592,\n",
       " 593,\n",
       " 600,\n",
       " 602,\n",
       " 604,\n",
       " 605,\n",
       " 606,\n",
       " 608,\n",
       " 609,\n",
       " 610,\n",
       " 612,\n",
       " 615,\n",
       " 617,\n",
       " 618,\n",
       " 624,\n",
       " 625,\n",
       " 626,\n",
       " 628,\n",
       " 630,\n",
       " 634,\n",
       " 639,\n",
       " 641,\n",
       " 642,\n",
       " 644,\n",
       " 646,\n",
       " 650,\n",
       " 652,\n",
       " 653,\n",
       " 655,\n",
       " 657,\n",
       " 659,\n",
       " 667,\n",
       " 668,\n",
       " 669,\n",
       " 670,\n",
       " 671,\n",
       " 673,\n",
       " 685,\n",
       " 689,\n",
       " 692,\n",
       " 694,\n",
       " 700,\n",
       " 701,\n",
       " 702,\n",
       " 704,\n",
       " 707,\n",
       " 708,\n",
       " 711,\n",
       " 713,\n",
       " 714,\n",
       " 716,\n",
       " 721,\n",
       " 722,\n",
       " 723,\n",
       " 725,\n",
       " 726,\n",
       " 727,\n",
       " 728,\n",
       " 730,\n",
       " 731,\n",
       " 738,\n",
       " 741,\n",
       " 742,\n",
       " 744,\n",
       " 745,\n",
       " 746,\n",
       " 749,\n",
       " 751,\n",
       " 752,\n",
       " 757,\n",
       " 760,\n",
       " 765,\n",
       " 767,\n",
       " 768,\n",
       " 771,\n",
       " 772,\n",
       " 775,\n",
       " 781,\n",
       " 784,\n",
       " 798,\n",
       " 804,\n",
       " 808,\n",
       " 809,\n",
       " 810,\n",
       " 811,\n",
       " 812,\n",
       " 815,\n",
       " 818,\n",
       " 822,\n",
       " 826,\n",
       " 827,\n",
       " 830,\n",
       " 833,\n",
       " 835,\n",
       " 841,\n",
       " 849,\n",
       " 850,\n",
       " 854,\n",
       " 855,\n",
       " 856,\n",
       " 859,\n",
       " 864,\n",
       " 867,\n",
       " 870,\n",
       " 878,\n",
       " 880,\n",
       " 881,\n",
       " 882,\n",
       " 886,\n",
       " 890,\n",
       " 891,\n",
       " 893,\n",
       " 895,\n",
       " 896,\n",
       " 899,\n",
       " 903,\n",
       " 905,\n",
       " 907,\n",
       " 912,\n",
       " 914,\n",
       " 915,\n",
       " 916,\n",
       " 926,\n",
       " 929,\n",
       " 930,\n",
       " 931,\n",
       " 936,\n",
       " 938,\n",
       " 946,\n",
       " 947,\n",
       " 950,\n",
       " 955,\n",
       " 959,\n",
       " 961,\n",
       " 965,\n",
       " 968,\n",
       " 969,\n",
       " 974,\n",
       " 979,\n",
       " 981,\n",
       " 982,\n",
       " 984,\n",
       " 985,\n",
       " 988,\n",
       " 994,\n",
       " 996,\n",
       " 997]"
      ]
     },
     "execution_count": 34,
     "metadata": {},
     "output_type": "execute_result"
    }
   ],
   "source": [
    "to_be_labeled_index"
   ]
  },
  {
   "cell_type": "code",
   "execution_count": 35,
   "metadata": {
    "scrolled": true
   },
   "outputs": [],
   "source": [
    "df_unlabeled = df_unlabeled.iloc[to_be_labeled_index,]"
   ]
  },
  {
   "cell_type": "code",
   "execution_count": 36,
   "metadata": {},
   "outputs": [],
   "source": [
    "df_unlabeled.to_excel('proba_unlabeled.xlsx',index=False)"
   ]
  },
  {
   "cell_type": "code",
   "execution_count": null,
   "metadata": {},
   "outputs": [],
   "source": []
  },
  {
   "cell_type": "code",
   "execution_count": null,
   "metadata": {},
   "outputs": [],
   "source": []
  },
  {
   "cell_type": "code",
   "execution_count": null,
   "metadata": {},
   "outputs": [],
   "source": []
  },
  {
   "cell_type": "markdown",
   "metadata": {},
   "source": [
    "## Multinomial Naive Bayes classifier:"
   ]
  },
  {
   "cell_type": "code",
   "execution_count": 45,
   "metadata": {},
   "outputs": [],
   "source": [
    "#### Multinomial Naive Bayes\n",
    "text_clf_mnb = Pipeline([('vect', CountVectorizer()),\n",
    " ('tfidf', TfidfTransformer()),\n",
    " ('clf-mnb', MultinomialNB()),\n",
    "])"
   ]
  },
  {
   "cell_type": "code",
   "execution_count": 46,
   "metadata": {},
   "outputs": [],
   "source": [
    "text_clf_mnb = text_clf_mnb.fit(X_train,Y_train)"
   ]
  },
  {
   "cell_type": "code",
   "execution_count": 47,
   "metadata": {},
   "outputs": [
    {
     "name": "stdout",
     "output_type": "stream",
     "text": [
      "Accuracy: 0.6\n",
      "[[11  0]\n",
      " [ 8  1]]\n"
     ]
    }
   ],
   "source": [
    "predicted_mnb = text_clf_mnb.predict(X_test)\n",
    "accuracy = np.mean(predicted_mnb == Y_test)\n",
    "print(\"Accuracy:\", accuracy)\n",
    "cm = confusion_matrix(Y_test, predicted_mnb)\n",
    "print(cm)"
   ]
  },
  {
   "cell_type": "code",
   "execution_count": 48,
   "metadata": {},
   "outputs": [
    {
     "name": "stdout",
     "output_type": "stream",
     "text": [
      "Confusion Matrix:\n",
      "[[11  0]\n",
      " [ 8  1]]\n"
     ]
    },
    {
     "data": {
      "image/png": "[encoded data removed]",
      "text/plain": [
       "<Figure size 432x288 with 2 Axes>"
      ]
     },
     "metadata": {
      "needs_background": "light"
     },
     "output_type": "display_data"
    },
    {
     "name": "stdout",
     "output_type": "stream",
     "text": [
      "              precision    recall  f1-score   support\n",
      "\n",
      "       False       0.58      1.00      0.73        11\n",
      "        True       1.00      0.11      0.20         9\n",
      "\n",
      "    accuracy                           0.60        20\n",
      "   macro avg       0.79      0.56      0.47        20\n",
      "weighted avg       0.77      0.60      0.49        20\n",
      "\n"
     ]
    }
   ],
   "source": [
    "## Graphical visualization\n",
    "cnf_matrix = confusion_matrix(Y_test, predicted_mnb)\n",
    "plt.figure()\n",
    "class_names = ['False', 'True']\n",
    "plot_confusion_matrix(cnf_matrix, classes=class_names,\n",
    "                      Y_test = Y_test, predictions = predicted_mnb,\n",
    "                      title='Confusion matrix')"
   ]
  },
  {
   "cell_type": "markdown",
   "metadata": {},
   "source": [
    "### Gridsearch: Multinomial Naive Bayes"
   ]
  },
  {
   "cell_type": "code",
   "execution_count": 49,
   "metadata": {},
   "outputs": [],
   "source": [
    "#### Gridsearch\n",
    "parameters = {'vect__ngram_range': [(1, 1), (1, 2)],\n",
    "#               'tfidf__use_idf': (True, False),\n",
    "              'clf-mnb__alpha': (0, 1e-1, 1e-2),\n",
    "    }"
   ]
  },
  {
   "cell_type": "code",
   "execution_count": 50,
   "metadata": {},
   "outputs": [
    {
     "data": {
      "text/plain": [
       "dict_keys(['memory', 'steps', 'verbose', 'vect', 'tfidf', 'clf-mnb', 'vect__analyzer', 'vect__binary', 'vect__decode_error', 'vect__dtype', 'vect__encoding', 'vect__input', 'vect__lowercase', 'vect__max_df', 'vect__max_features', 'vect__min_df', 'vect__ngram_range', 'vect__preprocessor', 'vect__stop_words', 'vect__strip_accents', 'vect__token_pattern', 'vect__tokenizer', 'vect__vocabulary', 'tfidf__norm', 'tfidf__smooth_idf', 'tfidf__sublinear_tf', 'tfidf__use_idf', 'clf-mnb__alpha', 'clf-mnb__class_prior', 'clf-mnb__fit_prior'])"
      ]
     },
     "execution_count": 50,
     "metadata": {},
     "output_type": "execute_result"
    }
   ],
   "source": [
    "text_clf_mnb.get_params().keys()"
   ]
  },
  {
   "cell_type": "code",
   "execution_count": 51,
   "metadata": {},
   "outputs": [
    {
     "name": "stderr",
     "output_type": "stream",
     "text": [
      "C:\\Users\\Yunkai\\AppData\\Roaming\\Python\\Python36\\site-packages\\sklearn\\naive_bayes.py:485: UserWarning: alpha too small will result in numeric errors, setting alpha = 1.0e-10\n",
      "  'setting alpha = %.1e' % _ALPHA_MIN)\n",
      "C:\\Users\\Yunkai\\AppData\\Roaming\\Python\\Python36\\site-packages\\sklearn\\naive_bayes.py:485: UserWarning: alpha too small will result in numeric errors, setting alpha = 1.0e-10\n",
      "  'setting alpha = %.1e' % _ALPHA_MIN)\n",
      "C:\\Users\\Yunkai\\AppData\\Roaming\\Python\\Python36\\site-packages\\sklearn\\naive_bayes.py:485: UserWarning: alpha too small will result in numeric errors, setting alpha = 1.0e-10\n",
      "  'setting alpha = %.1e' % _ALPHA_MIN)\n",
      "C:\\Users\\Yunkai\\AppData\\Roaming\\Python\\Python36\\site-packages\\sklearn\\naive_bayes.py:485: UserWarning: alpha too small will result in numeric errors, setting alpha = 1.0e-10\n",
      "  'setting alpha = %.1e' % _ALPHA_MIN)\n",
      "C:\\Users\\Yunkai\\AppData\\Roaming\\Python\\Python36\\site-packages\\sklearn\\naive_bayes.py:485: UserWarning: alpha too small will result in numeric errors, setting alpha = 1.0e-10\n",
      "  'setting alpha = %.1e' % _ALPHA_MIN)\n",
      "C:\\Users\\Yunkai\\AppData\\Roaming\\Python\\Python36\\site-packages\\sklearn\\naive_bayes.py:485: UserWarning: alpha too small will result in numeric errors, setting alpha = 1.0e-10\n",
      "  'setting alpha = %.1e' % _ALPHA_MIN)\n",
      "C:\\Users\\Yunkai\\AppData\\Roaming\\Python\\Python36\\site-packages\\sklearn\\naive_bayes.py:485: UserWarning: alpha too small will result in numeric errors, setting alpha = 1.0e-10\n",
      "  'setting alpha = %.1e' % _ALPHA_MIN)\n",
      "C:\\Users\\Yunkai\\AppData\\Roaming\\Python\\Python36\\site-packages\\sklearn\\naive_bayes.py:485: UserWarning: alpha too small will result in numeric errors, setting alpha = 1.0e-10\n",
      "  'setting alpha = %.1e' % _ALPHA_MIN)\n",
      "C:\\Users\\Yunkai\\AppData\\Roaming\\Python\\Python36\\site-packages\\sklearn\\naive_bayes.py:485: UserWarning: alpha too small will result in numeric errors, setting alpha = 1.0e-10\n",
      "  'setting alpha = %.1e' % _ALPHA_MIN)\n",
      "C:\\Users\\Yunkai\\AppData\\Roaming\\Python\\Python36\\site-packages\\sklearn\\naive_bayes.py:485: UserWarning: alpha too small will result in numeric errors, setting alpha = 1.0e-10\n",
      "  'setting alpha = %.1e' % _ALPHA_MIN)\n",
      "C:\\Users\\Yunkai\\AppData\\Roaming\\Python\\Python36\\site-packages\\sklearn\\model_selection\\_search.py:814: DeprecationWarning: The default of the `iid` parameter will change from True to False in version 0.22 and will be removed in 0.24. This will change numeric results when test-set sizes are unequal.\n",
      "  DeprecationWarning)\n",
      "C:\\Users\\Yunkai\\AppData\\Roaming\\Python\\Python36\\site-packages\\sklearn\\naive_bayes.py:485: UserWarning: alpha too small will result in numeric errors, setting alpha = 1.0e-10\n",
      "  'setting alpha = %.1e' % _ALPHA_MIN)\n"
     ]
    }
   ],
   "source": [
    "## Cross-validation and fit\n",
    "gs_clf_mnb = GridSearchCV(text_clf_mnb, parameters, cv=5)\n",
    "gs_clf_mnb = gs_clf_mnb.fit(X_train,Y_train)\n",
    "predicted_gs = gs_clf_mnb.predict(X_test)\n",
    "accuracy = np.mean(predicted_gs == Y_test)"
   ]
  },
  {
   "cell_type": "code",
   "execution_count": 52,
   "metadata": {},
   "outputs": [
    {
     "name": "stdout",
     "output_type": "stream",
     "text": [
      "Grid search best score: 0.675\n",
      "{'clf-mnb__alpha': 0, 'vect__ngram_range': (1, 1)}\n",
      "Accuracy: 0.8\n"
     ]
    }
   ],
   "source": [
    "print(\"Grid search best score:\", gs_clf_mnb.best_score_)\n",
    "print(gs_clf_mnb.best_params_)\n",
    "print(\"Accuracy:\", accuracy)"
   ]
  },
  {
   "cell_type": "code",
   "execution_count": 53,
   "metadata": {},
   "outputs": [
    {
     "name": "stdout",
     "output_type": "stream",
     "text": [
      "Confusion Matrix:\n",
      "[[11  0]\n",
      " [ 4  5]]\n"
     ]
    },
    {
     "data": {
      "image/png": "[encoded data removed]",
      "text/plain": [
       "<Figure size 432x288 with 2 Axes>"
      ]
     },
     "metadata": {
      "needs_background": "light"
     },
     "output_type": "display_data"
    },
    {
     "name": "stdout",
     "output_type": "stream",
     "text": [
      "              precision    recall  f1-score   support\n",
      "\n",
      "       False       0.73      1.00      0.85        11\n",
      "        True       1.00      0.56      0.71         9\n",
      "\n",
      "    accuracy                           0.80        20\n",
      "   macro avg       0.87      0.78      0.78        20\n",
      "weighted avg       0.85      0.80      0.79        20\n",
      "\n"
     ]
    }
   ],
   "source": [
    "## Graphical visualization\n",
    "cnf_matrix = confusion_matrix(Y_test, predicted_gs)\n",
    "plt.figure()\n",
    "class_names = ['False', 'True']\n",
    "plot_confusion_matrix(cnf_matrix, classes=class_names,\n",
    "                      Y_test = Y_test, predictions = predicted_gs,\n",
    "                      title='Confusion matrix')"
   ]
  },
  {
   "cell_type": "markdown",
   "metadata": {},
   "source": [
    "## Complement Naive Bayes classifier:"
   ]
  },
  {
   "cell_type": "code",
   "execution_count": 54,
   "metadata": {},
   "outputs": [],
   "source": [
    "#### Complement Naive Bayes\n",
    "text_clf_cnb = Pipeline([('vect', CountVectorizer()),\n",
    " ('tfidf', TfidfTransformer()),\n",
    " ('clf-cnb', ComplementNB()),\n",
    "])"
   ]
  },
  {
   "cell_type": "code",
   "execution_count": 55,
   "metadata": {},
   "outputs": [],
   "source": [
    "text_clf_cnb = text_clf_cnb.fit(X_train,Y_train)"
   ]
  },
  {
   "cell_type": "code",
   "execution_count": 56,
   "metadata": {},
   "outputs": [
    {
     "name": "stdout",
     "output_type": "stream",
     "text": [
      "Accuracy: 0.6\n",
      "[[7 4]\n",
      " [4 5]]\n"
     ]
    }
   ],
   "source": [
    "predicted_cnb = text_clf_cnb.predict(X_test)\n",
    "accuracy = np.mean(predicted_cnb == Y_test)\n",
    "print(\"Accuracy:\", accuracy)\n",
    "cm = confusion_matrix(Y_test, predicted_cnb)\n",
    "print(cm)"
   ]
  },
  {
   "cell_type": "code",
   "execution_count": 57,
   "metadata": {},
   "outputs": [
    {
     "name": "stdout",
     "output_type": "stream",
     "text": [
      "Confusion Matrix:\n",
      "[[7 4]\n",
      " [4 5]]\n"
     ]
    },
    {
     "data": {
      "image/png": "[encoded data removed]",
      "text/plain": [
       "<Figure size 432x288 with 2 Axes>"
      ]
     },
     "metadata": {
      "needs_background": "light"
     },
     "output_type": "display_data"
    },
    {
     "name": "stdout",
     "output_type": "stream",
     "text": [
      "              precision    recall  f1-score   support\n",
      "\n",
      "       False       0.64      0.64      0.64        11\n",
      "        True       0.56      0.56      0.56         9\n",
      "\n",
      "    accuracy                           0.60        20\n",
      "   macro avg       0.60      0.60      0.60        20\n",
      "weighted avg       0.60      0.60      0.60        20\n",
      "\n"
     ]
    }
   ],
   "source": [
    "## Graphical visualization\n",
    "cnf_matrix = confusion_matrix(Y_test, predicted_cnb)\n",
    "plt.figure()\n",
    "class_names = ['False', 'True']\n",
    "plot_confusion_matrix(cnf_matrix, classes=class_names,\n",
    "                      Y_test = Y_test, predictions = predicted_cnb,\n",
    "                      title='Confusion matrix')"
   ]
  },
  {
   "cell_type": "markdown",
   "metadata": {},
   "source": [
    "### Gridsearch: Complement Naive Bayes"
   ]
  },
  {
   "cell_type": "code",
   "execution_count": 58,
   "metadata": {},
   "outputs": [],
   "source": [
    "#### Gridsearch\n",
    "parameters = {'vect__ngram_range': [(1, 1), (1, 2)],\n",
    "#               'tfidf__use_idf': (True, False),\n",
    "              'clf-cnb__alpha': (0, 1e-1, 1e-2),\n",
    "    }"
   ]
  },
  {
   "cell_type": "code",
   "execution_count": 59,
   "metadata": {},
   "outputs": [
    {
     "data": {
      "text/plain": [
       "dict_keys(['memory', 'steps', 'verbose', 'vect', 'tfidf', 'clf-cnb', 'vect__analyzer', 'vect__binary', 'vect__decode_error', 'vect__dtype', 'vect__encoding', 'vect__input', 'vect__lowercase', 'vect__max_df', 'vect__max_features', 'vect__min_df', 'vect__ngram_range', 'vect__preprocessor', 'vect__stop_words', 'vect__strip_accents', 'vect__token_pattern', 'vect__tokenizer', 'vect__vocabulary', 'tfidf__norm', 'tfidf__smooth_idf', 'tfidf__sublinear_tf', 'tfidf__use_idf', 'clf-cnb__alpha', 'clf-cnb__class_prior', 'clf-cnb__fit_prior', 'clf-cnb__norm'])"
      ]
     },
     "execution_count": 59,
     "metadata": {},
     "output_type": "execute_result"
    }
   ],
   "source": [
    "text_clf_cnb.get_params().keys()"
   ]
  },
  {
   "cell_type": "code",
   "execution_count": 60,
   "metadata": {},
   "outputs": [
    {
     "name": "stderr",
     "output_type": "stream",
     "text": [
      "C:\\Users\\Yunkai\\AppData\\Roaming\\Python\\Python36\\site-packages\\sklearn\\naive_bayes.py:485: UserWarning: alpha too small will result in numeric errors, setting alpha = 1.0e-10\n",
      "  'setting alpha = %.1e' % _ALPHA_MIN)\n",
      "C:\\Users\\Yunkai\\AppData\\Roaming\\Python\\Python36\\site-packages\\sklearn\\naive_bayes.py:485: UserWarning: alpha too small will result in numeric errors, setting alpha = 1.0e-10\n",
      "  'setting alpha = %.1e' % _ALPHA_MIN)\n",
      "C:\\Users\\Yunkai\\AppData\\Roaming\\Python\\Python36\\site-packages\\sklearn\\naive_bayes.py:485: UserWarning: alpha too small will result in numeric errors, setting alpha = 1.0e-10\n",
      "  'setting alpha = %.1e' % _ALPHA_MIN)\n",
      "C:\\Users\\Yunkai\\AppData\\Roaming\\Python\\Python36\\site-packages\\sklearn\\naive_bayes.py:485: UserWarning: alpha too small will result in numeric errors, setting alpha = 1.0e-10\n",
      "  'setting alpha = %.1e' % _ALPHA_MIN)\n",
      "C:\\Users\\Yunkai\\AppData\\Roaming\\Python\\Python36\\site-packages\\sklearn\\naive_bayes.py:485: UserWarning: alpha too small will result in numeric errors, setting alpha = 1.0e-10\n",
      "  'setting alpha = %.1e' % _ALPHA_MIN)\n",
      "C:\\Users\\Yunkai\\AppData\\Roaming\\Python\\Python36\\site-packages\\sklearn\\naive_bayes.py:485: UserWarning: alpha too small will result in numeric errors, setting alpha = 1.0e-10\n",
      "  'setting alpha = %.1e' % _ALPHA_MIN)\n",
      "C:\\Users\\Yunkai\\AppData\\Roaming\\Python\\Python36\\site-packages\\sklearn\\naive_bayes.py:485: UserWarning: alpha too small will result in numeric errors, setting alpha = 1.0e-10\n",
      "  'setting alpha = %.1e' % _ALPHA_MIN)\n",
      "C:\\Users\\Yunkai\\AppData\\Roaming\\Python\\Python36\\site-packages\\sklearn\\naive_bayes.py:485: UserWarning: alpha too small will result in numeric errors, setting alpha = 1.0e-10\n",
      "  'setting alpha = %.1e' % _ALPHA_MIN)\n",
      "C:\\Users\\Yunkai\\AppData\\Roaming\\Python\\Python36\\site-packages\\sklearn\\naive_bayes.py:485: UserWarning: alpha too small will result in numeric errors, setting alpha = 1.0e-10\n",
      "  'setting alpha = %.1e' % _ALPHA_MIN)\n",
      "C:\\Users\\Yunkai\\AppData\\Roaming\\Python\\Python36\\site-packages\\sklearn\\naive_bayes.py:485: UserWarning: alpha too small will result in numeric errors, setting alpha = 1.0e-10\n",
      "  'setting alpha = %.1e' % _ALPHA_MIN)\n",
      "C:\\Users\\Yunkai\\AppData\\Roaming\\Python\\Python36\\site-packages\\sklearn\\model_selection\\_search.py:814: DeprecationWarning: The default of the `iid` parameter will change from True to False in version 0.22 and will be removed in 0.24. This will change numeric results when test-set sizes are unequal.\n",
      "  DeprecationWarning)\n",
      "C:\\Users\\Yunkai\\AppData\\Roaming\\Python\\Python36\\site-packages\\sklearn\\naive_bayes.py:485: UserWarning: alpha too small will result in numeric errors, setting alpha = 1.0e-10\n",
      "  'setting alpha = %.1e' % _ALPHA_MIN)\n"
     ]
    }
   ],
   "source": [
    "## Cross-validation and fit\n",
    "gs_clf_cnb = GridSearchCV(text_clf_cnb, parameters, cv=5)\n",
    "gs_clf_cnb = gs_clf_cnb.fit(X_train,Y_train)\n",
    "predicted_gs = gs_clf_cnb.predict(X_test)\n",
    "accuracy = np.mean(predicted_gs == Y_test)"
   ]
  },
  {
   "cell_type": "code",
   "execution_count": 61,
   "metadata": {},
   "outputs": [
    {
     "name": "stdout",
     "output_type": "stream",
     "text": [
      "Grid search best score: 0.65\n",
      "{'clf-cnb__alpha': 0, 'vect__ngram_range': (1, 1)}\n",
      "Accuracy: 0.7\n"
     ]
    }
   ],
   "source": [
    "print(\"Grid search best score:\", gs_clf_cnb.best_score_)\n",
    "print(gs_clf_cnb.best_params_)\n",
    "print(\"Accuracy:\", accuracy)"
   ]
  },
  {
   "cell_type": "code",
   "execution_count": 62,
   "metadata": {},
   "outputs": [
    {
     "name": "stdout",
     "output_type": "stream",
     "text": [
      "Confusion Matrix:\n",
      "[[8 3]\n",
      " [3 6]]\n"
     ]
    },
    {
     "data": {
      "image/png": "[encoded data removed]",
      "text/plain": [
       "<Figure size 432x288 with 2 Axes>"
      ]
     },
     "metadata": {
      "needs_background": "light"
     },
     "output_type": "display_data"
    },
    {
     "name": "stdout",
     "output_type": "stream",
     "text": [
      "              precision    recall  f1-score   support\n",
      "\n",
      "       False       0.73      0.73      0.73        11\n",
      "        True       0.67      0.67      0.67         9\n",
      "\n",
      "    accuracy                           0.70        20\n",
      "   macro avg       0.70      0.70      0.70        20\n",
      "weighted avg       0.70      0.70      0.70        20\n",
      "\n"
     ]
    }
   ],
   "source": [
    "## Graphical visualization\n",
    "cnf_matrix = confusion_matrix(Y_test, predicted_gs)\n",
    "plt.figure()\n",
    "class_names = ['False', 'True']\n",
    "plot_confusion_matrix(cnf_matrix, classes=class_names,\n",
    "                      Y_test = Y_test, predictions = predicted_gs,\n",
    "                      title='Confusion matrix')"
   ]
  },
  {
   "cell_type": "markdown",
   "metadata": {},
   "source": [
    "## AdaBoost Classifier:"
   ]
  },
  {
   "cell_type": "code",
   "execution_count": 63,
   "metadata": {},
   "outputs": [],
   "source": [
    "#### AdaBoost\n",
    "text_clf_adb = Pipeline([('vect', CountVectorizer()),\n",
    " ('tfidf', TfidfTransformer()),\n",
    " ('clf-adb', AdaBoostClassifier(learning_rate = 0.8, n_estimators = 170)),\n",
    "])"
   ]
  },
  {
   "cell_type": "code",
   "execution_count": 64,
   "metadata": {},
   "outputs": [],
   "source": [
    "text_clf_adb = text_clf_adb.fit(X_train,Y_train)"
   ]
  },
  {
   "cell_type": "code",
   "execution_count": 65,
   "metadata": {},
   "outputs": [
    {
     "name": "stdout",
     "output_type": "stream",
     "text": [
      "Accuracy: 0.75\n",
      "[[10  1]\n",
      " [ 4  5]]\n"
     ]
    }
   ],
   "source": [
    "predicted_adb = text_clf_adb.predict(X_test)\n",
    "accuracy = np.mean(predicted_adb == Y_test)\n",
    "print(\"Accuracy:\", accuracy)\n",
    "cm = confusion_matrix(Y_test, predicted_adb)\n",
    "print(cm)"
   ]
  },
  {
   "cell_type": "code",
   "execution_count": 66,
   "metadata": {},
   "outputs": [
    {
     "name": "stdout",
     "output_type": "stream",
     "text": [
      "Confusion Matrix:\n",
      "[[10  1]\n",
      " [ 4  5]]\n"
     ]
    },
    {
     "data": {
      "image/png": "[encoded data removed]",
      "text/plain": [
       "<Figure size 432x288 with 2 Axes>"
      ]
     },
     "metadata": {
      "needs_background": "light"
     },
     "output_type": "display_data"
    },
    {
     "name": "stdout",
     "output_type": "stream",
     "text": [
      "              precision    recall  f1-score   support\n",
      "\n",
      "       False       0.71      0.91      0.80        11\n",
      "        True       0.83      0.56      0.67         9\n",
      "\n",
      "    accuracy                           0.75        20\n",
      "   macro avg       0.77      0.73      0.73        20\n",
      "weighted avg       0.77      0.75      0.74        20\n",
      "\n"
     ]
    }
   ],
   "source": [
    "## Graphical visualization\n",
    "cnf_matrix = confusion_matrix(Y_test, predicted_adb)\n",
    "plt.figure()\n",
    "class_names = ['False', 'True']\n",
    "plot_confusion_matrix(cnf_matrix, classes=class_names,\n",
    "                      Y_test = Y_test, predictions = predicted_adb,\n",
    "                      title='Confusion matrix')"
   ]
  },
  {
   "cell_type": "markdown",
   "metadata": {},
   "source": [
    "### Gridsearch: AdaBoost"
   ]
  },
  {
   "cell_type": "code",
   "execution_count": 67,
   "metadata": {},
   "outputs": [],
   "source": [
    "#### Gridsearch\n",
    "parameters = {'vect__ngram_range': [(1, 1), (1, 2)],\n",
    "#               'tfidf__use_idf': (True, False),\n",
    "              'clf-adb__n_estimators': (140, 160),\n",
    "#               'clf-adb__learning_rate': (0.6, 0.8),\n",
    "    }"
   ]
  },
  {
   "cell_type": "code",
   "execution_count": 68,
   "metadata": {},
   "outputs": [
    {
     "data": {
      "text/plain": [
       "dict_keys(['memory', 'steps', 'verbose', 'vect', 'tfidf', 'clf-adb', 'vect__analyzer', 'vect__binary', 'vect__decode_error', 'vect__dtype', 'vect__encoding', 'vect__input', 'vect__lowercase', 'vect__max_df', 'vect__max_features', 'vect__min_df', 'vect__ngram_range', 'vect__preprocessor', 'vect__stop_words', 'vect__strip_accents', 'vect__token_pattern', 'vect__tokenizer', 'vect__vocabulary', 'tfidf__norm', 'tfidf__smooth_idf', 'tfidf__sublinear_tf', 'tfidf__use_idf', 'clf-adb__algorithm', 'clf-adb__base_estimator', 'clf-adb__learning_rate', 'clf-adb__n_estimators', 'clf-adb__random_state'])"
      ]
     },
     "execution_count": 68,
     "metadata": {},
     "output_type": "execute_result"
    }
   ],
   "source": [
    "text_clf_adb.get_params().keys()"
   ]
  },
  {
   "cell_type": "code",
   "execution_count": 69,
   "metadata": {},
   "outputs": [
    {
     "name": "stderr",
     "output_type": "stream",
     "text": [
      "C:\\Users\\Yunkai\\AppData\\Roaming\\Python\\Python36\\site-packages\\sklearn\\model_selection\\_search.py:814: DeprecationWarning: The default of the `iid` parameter will change from True to False in version 0.22 and will be removed in 0.24. This will change numeric results when test-set sizes are unequal.\n",
      "  DeprecationWarning)\n"
     ]
    }
   ],
   "source": [
    "## Cross-validation and fit\n",
    "gs_clf_adb = GridSearchCV(text_clf_adb, parameters, cv=5)\n",
    "gs_clf_adb = gs_clf_adb.fit(X_train,Y_train)\n",
    "predicted_gs = gs_clf_adb.predict(X_test)\n",
    "accuracy = np.mean(predicted_gs == Y_test)"
   ]
  },
  {
   "cell_type": "code",
   "execution_count": 70,
   "metadata": {},
   "outputs": [
    {
     "name": "stdout",
     "output_type": "stream",
     "text": [
      "Grid search best score: 0.825\n",
      "{'clf-adb__n_estimators': 160, 'vect__ngram_range': (1, 2)}\n",
      "Accuracy: 0.8\n"
     ]
    }
   ],
   "source": [
    "print(\"Grid search best score:\", gs_clf_adb.best_score_)\n",
    "print(gs_clf_adb.best_params_)\n",
    "print(\"Accuracy:\", accuracy)"
   ]
  },
  {
   "cell_type": "code",
   "execution_count": 71,
   "metadata": {},
   "outputs": [
    {
     "name": "stdout",
     "output_type": "stream",
     "text": [
      "Confusion Matrix:\n",
      "[[10  1]\n",
      " [ 3  6]]\n"
     ]
    },
    {
     "data": {
      "image/png": "[encoded data removed]",
      "text/plain": [
       "<Figure size 432x288 with 2 Axes>"
      ]
     },
     "metadata": {
      "needs_background": "light"
     },
     "output_type": "display_data"
    },
    {
     "name": "stdout",
     "output_type": "stream",
     "text": [
      "              precision    recall  f1-score   support\n",
      "\n",
      "       False       0.77      0.91      0.83        11\n",
      "        True       0.86      0.67      0.75         9\n",
      "\n",
      "    accuracy                           0.80        20\n",
      "   macro avg       0.81      0.79      0.79        20\n",
      "weighted avg       0.81      0.80      0.80        20\n",
      "\n"
     ]
    }
   ],
   "source": [
    "## Graphical visualization\n",
    "cnf_matrix = confusion_matrix(Y_test, predicted_gs)\n",
    "plt.figure()\n",
    "class_names = ['False', 'True']\n",
    "plot_confusion_matrix(cnf_matrix, classes=class_names,\n",
    "                      Y_test = Y_test, predictions = predicted_gs,\n",
    "                      title='Confusion matrix')"
   ]
  },
  {
   "cell_type": "markdown",
   "metadata": {},
   "source": [
    "## Gradient Boosting Classifier:"
   ]
  },
  {
   "cell_type": "code",
   "execution_count": 72,
   "metadata": {},
   "outputs": [],
   "source": [
    "#### Gradient Boosting\n",
    "text_clf_gdb = Pipeline([('vect', CountVectorizer()),\n",
    " ('tfidf', TfidfTransformer()),\n",
    " ('clf-gdb', AdaBoostClassifier(learning_rate = 0.9, n_estimators = 100)),\n",
    "])"
   ]
  },
  {
   "cell_type": "code",
   "execution_count": 73,
   "metadata": {},
   "outputs": [],
   "source": [
    "text_clf_gdb = text_clf_gdb.fit(X_train,Y_train)"
   ]
  },
  {
   "cell_type": "code",
   "execution_count": 74,
   "metadata": {},
   "outputs": [
    {
     "name": "stdout",
     "output_type": "stream",
     "text": [
      "Accuracy: 0.65\n",
      "[[8 3]\n",
      " [4 5]]\n"
     ]
    }
   ],
   "source": [
    "predicted_gdb = text_clf_gdb.predict(X_test)\n",
    "accuracy = np.mean(predicted_gdb == Y_test)\n",
    "print(\"Accuracy:\", accuracy)\n",
    "cm = confusion_matrix(Y_test, predicted_gdb)\n",
    "print(cm)"
   ]
  },
  {
   "cell_type": "code",
   "execution_count": 75,
   "metadata": {},
   "outputs": [
    {
     "name": "stdout",
     "output_type": "stream",
     "text": [
      "Confusion Matrix:\n",
      "[[8 3]\n",
      " [4 5]]\n"
     ]
    },
    {
     "data": {
      "image/png": "[encoded data removed]",
      "text/plain": [
       "<Figure size 432x288 with 2 Axes>"
      ]
     },
     "metadata": {
      "needs_background": "light"
     },
     "output_type": "display_data"
    },
    {
     "name": "stdout",
     "output_type": "stream",
     "text": [
      "              precision    recall  f1-score   support\n",
      "\n",
      "       False       0.67      0.73      0.70        11\n",
      "        True       0.62      0.56      0.59         9\n",
      "\n",
      "    accuracy                           0.65        20\n",
      "   macro avg       0.65      0.64      0.64        20\n",
      "weighted avg       0.65      0.65      0.65        20\n",
      "\n"
     ]
    }
   ],
   "source": [
    "## Graphical visualization\n",
    "cnf_matrix = confusion_matrix(Y_test, predicted_gdb)\n",
    "plt.figure()\n",
    "class_names = ['False', 'True']\n",
    "plot_confusion_matrix(cnf_matrix, classes=class_names,\n",
    "                      Y_test = Y_test, predictions = predicted_gdb,\n",
    "                      title='Confusion matrix')"
   ]
  },
  {
   "cell_type": "markdown",
   "metadata": {},
   "source": [
    "### Gridsearch: AdaBoost"
   ]
  },
  {
   "cell_type": "code",
   "execution_count": 76,
   "metadata": {},
   "outputs": [],
   "source": [
    "#### Gridsearch\n",
    "parameters = {'vect__ngram_range': [(1, 1), (1, 2)],\n",
    "#               'tfidf__use_idf': (True, False),\n",
    "              'clf-gdb__n_estimators': (100, 150),\n",
    "#               'clf-adb__learning_rate': (0.7, 0.9),\n",
    "    }"
   ]
  },
  {
   "cell_type": "code",
   "execution_count": 78,
   "metadata": {},
   "outputs": [
    {
     "data": {
      "text/plain": [
       "dict_keys(['memory', 'steps', 'verbose', 'vect', 'tfidf', 'clf-gdb', 'vect__analyzer', 'vect__binary', 'vect__decode_error', 'vect__dtype', 'vect__encoding', 'vect__input', 'vect__lowercase', 'vect__max_df', 'vect__max_features', 'vect__min_df', 'vect__ngram_range', 'vect__preprocessor', 'vect__stop_words', 'vect__strip_accents', 'vect__token_pattern', 'vect__tokenizer', 'vect__vocabulary', 'tfidf__norm', 'tfidf__smooth_idf', 'tfidf__sublinear_tf', 'tfidf__use_idf', 'clf-gdb__algorithm', 'clf-gdb__base_estimator', 'clf-gdb__learning_rate', 'clf-gdb__n_estimators', 'clf-gdb__random_state'])"
      ]
     },
     "execution_count": 78,
     "metadata": {},
     "output_type": "execute_result"
    }
   ],
   "source": [
    "text_clf_gdb.get_params().keys()# a b c ab bc"
   ]
  },
  {
   "cell_type": "code",
   "execution_count": 79,
   "metadata": {},
   "outputs": [
    {
     "name": "stderr",
     "output_type": "stream",
     "text": [
      "C:\\Users\\Yunkai\\AppData\\Roaming\\Python\\Python36\\site-packages\\sklearn\\model_selection\\_search.py:814: DeprecationWarning: The default of the `iid` parameter will change from True to False in version 0.22 and will be removed in 0.24. This will change numeric results when test-set sizes are unequal.\n",
      "  DeprecationWarning)\n"
     ]
    }
   ],
   "source": [
    "## Cross-validation and fit\n",
    "gs_clf_gdb = GridSearchCV(text_clf_gdb, parameters, cv=5)\n",
    "gs_clf_gdb = gs_clf_gdb.fit(X_train,Y_train)\n",
    "predicted_gs = gs_clf_gdb.predict(X_test)\n",
    "accuracy = np.mean(predicted_gs == Y_test)"
   ]
  },
  {
   "cell_type": "code",
   "execution_count": 80,
   "metadata": {},
   "outputs": [
    {
     "name": "stdout",
     "output_type": "stream",
     "text": [
      "Grid search best score: 0.8125\n",
      "{'clf-gdb__n_estimators': 100, 'vect__ngram_range': (1, 2)}\n",
      "Accuracy: 0.75\n"
     ]
    }
   ],
   "source": [
    "print(\"Grid search best score:\", gs_clf_gdb.best_score_)\n",
    "print(gs_clf_gdb.best_params_)\n",
    "print(\"Accuracy:\", accuracy)"
   ]
  },
  {
   "cell_type": "code",
   "execution_count": 81,
   "metadata": {},
   "outputs": [
    {
     "name": "stdout",
     "output_type": "stream",
     "text": [
      "Confusion Matrix:\n",
      "[[10  1]\n",
      " [ 4  5]]\n"
     ]
    },
    {
     "data": {
      "image/png": "[encoded data removed]",
      "text/plain": [
       "<Figure size 432x288 with 2 Axes>"
      ]
     },
     "metadata": {
      "needs_background": "light"
     },
     "output_type": "display_data"
    },
    {
     "name": "stdout",
     "output_type": "stream",
     "text": [
      "              precision    recall  f1-score   support\n",
      "\n",
      "       False       0.71      0.91      0.80        11\n",
      "        True       0.83      0.56      0.67         9\n",
      "\n",
      "    accuracy                           0.75        20\n",
      "   macro avg       0.77      0.73      0.73        20\n",
      "weighted avg       0.77      0.75      0.74        20\n",
      "\n"
     ]
    }
   ],
   "source": [
    "## Graphical visualization\n",
    "cnf_matrix = confusion_matrix(Y_test, predicted_gs)\n",
    "plt.figure()\n",
    "class_names = ['False', 'True']\n",
    "plot_confusion_matrix(cnf_matrix, classes=class_names,\n",
    "                      Y_test = Y_test, predictions = predicted_gs,\n",
    "                      title='Confusion matrix')"
   ]
  },
  {
   "cell_type": "markdown",
   "metadata": {},
   "source": [
    "## Support Vector Machine classifier:"
   ]
  },
  {
   "cell_type": "code",
   "execution_count": 82,
   "metadata": {},
   "outputs": [],
   "source": [
    "#### Support Vector Machine\n",
    "text_clf_svm = Pipeline([('vect', CountVectorizer()),\n",
    "                         ('tfidf', TfidfTransformer()),\n",
    "                         ('clf-svm', SVC(C=1.0, kernel='linear')), \n",
    "                    ])"
   ]
  },
  {
   "cell_type": "code",
   "execution_count": 83,
   "metadata": {},
   "outputs": [],
   "source": [
    "text_clf_svm = text_clf_svm.fit(X_train,Y_train)"
   ]
  },
  {
   "cell_type": "code",
   "execution_count": 84,
   "metadata": {},
   "outputs": [
    {
     "name": "stdout",
     "output_type": "stream",
     "text": [
      "Accuracy: 0.6\n",
      "[[5 6]\n",
      " [2 7]]\n"
     ]
    }
   ],
   "source": [
    "predicted_svm = text_clf_svm.predict(X_test)\n",
    "accuracy = np.mean(predicted_svm == Y_test)\n",
    "print(\"Accuracy:\", accuracy)\n",
    "cm = confusion_matrix(Y_test, predicted_svm)\n",
    "print(cm)"
   ]
  },
  {
   "cell_type": "code",
   "execution_count": 85,
   "metadata": {},
   "outputs": [
    {
     "name": "stdout",
     "output_type": "stream",
     "text": [
      "Confusion Matrix:\n",
      "[[5 6]\n",
      " [2 7]]\n"
     ]
    },
    {
     "data": {
      "image/png": "[encoded data removed]",
      "text/plain": [
       "<Figure size 432x288 with 2 Axes>"
      ]
     },
     "metadata": {
      "needs_background": "light"
     },
     "output_type": "display_data"
    },
    {
     "name": "stdout",
     "output_type": "stream",
     "text": [
      "              precision    recall  f1-score   support\n",
      "\n",
      "       False       0.71      0.45      0.56        11\n",
      "        True       0.54      0.78      0.64         9\n",
      "\n",
      "    accuracy                           0.60        20\n",
      "   macro avg       0.63      0.62      0.60        20\n",
      "weighted avg       0.64      0.60      0.59        20\n",
      "\n"
     ]
    }
   ],
   "source": [
    "## Graphical visualization\n",
    "cnf_matrix = confusion_matrix(Y_test, predicted_svm)\n",
    "plt.figure()\n",
    "class_names = ['False', 'True']\n",
    "plot_confusion_matrix(cnf_matrix, classes=class_names,\n",
    "                      Y_test = Y_test, predictions = predicted_svm,\n",
    "                      title='Confusion matrix')"
   ]
  },
  {
   "cell_type": "markdown",
   "metadata": {},
   "source": [
    "### Gridsearch: Support Vector Machine"
   ]
  },
  {
   "cell_type": "code",
   "execution_count": 86,
   "metadata": {},
   "outputs": [],
   "source": [
    "#### Gridsearch\n",
    "## To save time, do sigmoid with degree separately from other kernels\n",
    "parameters = {'vect__ngram_range': [(1, 1), (1, 2)],\n",
    "              #'tfidf__use_idf': (True, False),\n",
    "              'clf-svm__C': (10, 1, 1e-1),\n",
    "    }"
   ]
  },
  {
   "cell_type": "code",
   "execution_count": 87,
   "metadata": {},
   "outputs": [
    {
     "data": {
      "text/plain": [
       "dict_keys(['memory', 'steps', 'verbose', 'vect', 'tfidf', 'clf-svm', 'vect__analyzer', 'vect__binary', 'vect__decode_error', 'vect__dtype', 'vect__encoding', 'vect__input', 'vect__lowercase', 'vect__max_df', 'vect__max_features', 'vect__min_df', 'vect__ngram_range', 'vect__preprocessor', 'vect__stop_words', 'vect__strip_accents', 'vect__token_pattern', 'vect__tokenizer', 'vect__vocabulary', 'tfidf__norm', 'tfidf__smooth_idf', 'tfidf__sublinear_tf', 'tfidf__use_idf', 'clf-svm__C', 'clf-svm__cache_size', 'clf-svm__class_weight', 'clf-svm__coef0', 'clf-svm__decision_function_shape', 'clf-svm__degree', 'clf-svm__gamma', 'clf-svm__kernel', 'clf-svm__max_iter', 'clf-svm__probability', 'clf-svm__random_state', 'clf-svm__shrinking', 'clf-svm__tol', 'clf-svm__verbose'])"
      ]
     },
     "execution_count": 87,
     "metadata": {},
     "output_type": "execute_result"
    }
   ],
   "source": [
    "text_clf_svm.get_params().keys()"
   ]
  },
  {
   "cell_type": "code",
   "execution_count": 88,
   "metadata": {},
   "outputs": [
    {
     "name": "stderr",
     "output_type": "stream",
     "text": [
      "C:\\Users\\Yunkai\\AppData\\Roaming\\Python\\Python36\\site-packages\\sklearn\\model_selection\\_search.py:814: DeprecationWarning: The default of the `iid` parameter will change from True to False in version 0.22 and will be removed in 0.24. This will change numeric results when test-set sizes are unequal.\n",
      "  DeprecationWarning)\n"
     ]
    }
   ],
   "source": [
    "## Cross-validation and fit\n",
    "gs_clf_svm = GridSearchCV(text_clf_svm, parameters, cv=5, n_jobs=-1)\n",
    "gs_clf_svm = gs_clf_svm.fit(X_train,Y_train)\n",
    "predicted_gs = gs_clf_svm.predict(X_test)\n",
    "accuracy = np.mean(predicted_gs == Y_test)"
   ]
  },
  {
   "cell_type": "code",
   "execution_count": 93,
   "metadata": {},
   "outputs": [
    {
     "name": "stdout",
     "output_type": "stream",
     "text": [
      "Grid search best score: 0.8\n",
      "{'clf-svm__C': 10, 'vect__ngram_range': (1, 1)}\n",
      "Accuracy: 0.75\n"
     ]
    }
   ],
   "source": [
    "print(\"Grid search best score:\", gs_clf_svm.best_score_)\n",
    "print(gs_clf_svm.best_params_)\n",
    "print(\"Accuracy:\", accuracy)"
   ]
  },
  {
   "cell_type": "code",
   "execution_count": 94,
   "metadata": {},
   "outputs": [
    {
     "name": "stdout",
     "output_type": "stream",
     "text": [
      "Confusion Matrix:\n",
      "[[10  1]\n",
      " [ 4  5]]\n"
     ]
    },
    {
     "data": {
      "image/png": "[encoded data removed]",
      "text/plain": [
       "<Figure size 432x288 with 2 Axes>"
      ]
     },
     "metadata": {
      "needs_background": "light"
     },
     "output_type": "display_data"
    },
    {
     "name": "stdout",
     "output_type": "stream",
     "text": [
      "              precision    recall  f1-score   support\n",
      "\n",
      "       False       0.71      0.91      0.80        11\n",
      "        True       0.83      0.56      0.67         9\n",
      "\n",
      "    accuracy                           0.75        20\n",
      "   macro avg       0.77      0.73      0.73        20\n",
      "weighted avg       0.77      0.75      0.74        20\n",
      "\n"
     ]
    }
   ],
   "source": [
    "## Graphical visualization\n",
    "cnf_matrix = confusion_matrix(Y_test, predicted_gs)\n",
    "plt.figure()\n",
    "class_names = ['False', 'True']\n",
    "plot_confusion_matrix(cnf_matrix, classes=class_names,\n",
    "                      Y_test = Y_test, predictions = predicted_gs,\n",
    "                      title='Confusion matrix')"
   ]
  },
  {
   "cell_type": "markdown",
   "metadata": {},
   "source": [
    "## Stochastic Gradient Decent (SVM) classifier:"
   ]
  },
  {
   "cell_type": "code",
   "execution_count": 95,
   "metadata": {},
   "outputs": [],
   "source": [
    "#### Stochastic Gradient Descent (SVM hinge loss) !!! STEMMING REDUCES 2% !!!\n",
    "text_clf_sgd = Pipeline([('vect', CountVectorizer()),\n",
    "                         ('tfidf', TfidfTransformer()),\n",
    "                         ('clf-sgd', SGDClassifier(loss='hinge', # modified_huber\n",
    "                                                  penalty='l2',\n",
    "                                                  max_iter=5,\n",
    "                                                  random_state=42)), \n",
    "                    ])"
   ]
  },
  {
   "cell_type": "code",
   "execution_count": 96,
   "metadata": {},
   "outputs": [
    {
     "name": "stderr",
     "output_type": "stream",
     "text": [
      "C:\\Users\\Yunkai\\AppData\\Roaming\\Python\\Python36\\site-packages\\sklearn\\linear_model\\stochastic_gradient.py:561: ConvergenceWarning: Maximum number of iteration reached before convergence. Consider increasing max_iter to improve the fit.\n",
      "  ConvergenceWarning)\n"
     ]
    }
   ],
   "source": [
    "_ = text_clf_sgd.fit(X_train,Y_train)"
   ]
  },
  {
   "cell_type": "code",
   "execution_count": 97,
   "metadata": {},
   "outputs": [
    {
     "name": "stdout",
     "output_type": "stream",
     "text": [
      "Accuracy: 0.55\n"
     ]
    }
   ],
   "source": [
    "predicted_sgd = text_clf_sgd.predict(X_test)\n",
    "accuracy = np.mean(predicted_sgd == Y_test)\n",
    "print(\"Accuracy:\", accuracy)"
   ]
  },
  {
   "cell_type": "code",
   "execution_count": 98,
   "metadata": {},
   "outputs": [
    {
     "name": "stdout",
     "output_type": "stream",
     "text": [
      "Confusion Matrix:\n",
      "[[11  0]\n",
      " [ 9  0]]\n"
     ]
    },
    {
     "data": {
      "image/png": "[encoded data removed]",
      "text/plain": [
       "<Figure size 432x288 with 2 Axes>"
      ]
     },
     "metadata": {
      "needs_background": "light"
     },
     "output_type": "display_data"
    },
    {
     "name": "stdout",
     "output_type": "stream",
     "text": [
      "              precision    recall  f1-score   support\n",
      "\n",
      "       False       0.55      1.00      0.71        11\n",
      "        True       0.00      0.00      0.00         9\n",
      "\n",
      "    accuracy                           0.55        20\n",
      "   macro avg       0.28      0.50      0.35        20\n",
      "weighted avg       0.30      0.55      0.39        20\n",
      "\n"
     ]
    },
    {
     "name": "stderr",
     "output_type": "stream",
     "text": [
      "C:\\Users\\Yunkai\\AppData\\Roaming\\Python\\Python36\\site-packages\\sklearn\\metrics\\classification.py:1437: UndefinedMetricWarning: Precision and F-score are ill-defined and being set to 0.0 in labels with no predicted samples.\n",
      "  'precision', 'predicted', average, warn_for)\n"
     ]
    }
   ],
   "source": [
    "## Graphical visualization\n",
    "cnf_matrix = confusion_matrix(Y_test, predicted_sgd)\n",
    "plt.figure()\n",
    "class_names = ['False', 'True']\n",
    "plot_confusion_matrix(cnf_matrix, classes=class_names,\n",
    "                      Y_test = Y_test, predictions = predicted_sgd,\n",
    "                      title='Confusion matrix')"
   ]
  },
  {
   "cell_type": "markdown",
   "metadata": {},
   "source": [
    "### Gridsearch: Stochastic Gradient Descent"
   ]
  },
  {
   "cell_type": "code",
   "execution_count": 99,
   "metadata": {},
   "outputs": [],
   "source": [
    "#### Gridsearch\n",
    "parameters = {'vect__ngram_range': [(1, 1), (1, 2)],\n",
    "#               'tfidf__use_idf': (True, False),\n",
    "              'clf-sgd__alpha': (1e-2, 1e-3, 1e-4),\n",
    "              'clf-sgd__l1_ratio': (0, 0.15, 1)\n",
    "              #'clf-sgd__learning_rate': (1, 1e-1, 1e-2, 1e-3, 1e-4),\n",
    "    }"
   ]
  },
  {
   "cell_type": "code",
   "execution_count": 100,
   "metadata": {},
   "outputs": [
    {
     "data": {
      "text/plain": [
       "dict_keys(['memory', 'steps', 'verbose', 'vect', 'tfidf', 'clf-sgd', 'vect__analyzer', 'vect__binary', 'vect__decode_error', 'vect__dtype', 'vect__encoding', 'vect__input', 'vect__lowercase', 'vect__max_df', 'vect__max_features', 'vect__min_df', 'vect__ngram_range', 'vect__preprocessor', 'vect__stop_words', 'vect__strip_accents', 'vect__token_pattern', 'vect__tokenizer', 'vect__vocabulary', 'tfidf__norm', 'tfidf__smooth_idf', 'tfidf__sublinear_tf', 'tfidf__use_idf', 'clf-sgd__alpha', 'clf-sgd__average', 'clf-sgd__class_weight', 'clf-sgd__early_stopping', 'clf-sgd__epsilon', 'clf-sgd__eta0', 'clf-sgd__fit_intercept', 'clf-sgd__l1_ratio', 'clf-sgd__learning_rate', 'clf-sgd__loss', 'clf-sgd__max_iter', 'clf-sgd__n_iter_no_change', 'clf-sgd__n_jobs', 'clf-sgd__penalty', 'clf-sgd__power_t', 'clf-sgd__random_state', 'clf-sgd__shuffle', 'clf-sgd__tol', 'clf-sgd__validation_fraction', 'clf-sgd__verbose', 'clf-sgd__warm_start'])"
      ]
     },
     "execution_count": 100,
     "metadata": {},
     "output_type": "execute_result"
    }
   ],
   "source": [
    "text_clf_sgd.get_params().keys()"
   ]
  },
  {
   "cell_type": "code",
   "execution_count": 101,
   "metadata": {},
   "outputs": [
    {
     "name": "stderr",
     "output_type": "stream",
     "text": [
      "C:\\Users\\Yunkai\\AppData\\Roaming\\Python\\Python36\\site-packages\\sklearn\\linear_model\\stochastic_gradient.py:561: ConvergenceWarning: Maximum number of iteration reached before convergence. Consider increasing max_iter to improve the fit.\n",
      "  ConvergenceWarning)\n",
      "C:\\Users\\Yunkai\\AppData\\Roaming\\Python\\Python36\\site-packages\\sklearn\\linear_model\\stochastic_gradient.py:561: ConvergenceWarning: Maximum number of iteration reached before convergence. Consider increasing max_iter to improve the fit.\n",
      "  ConvergenceWarning)\n",
      "C:\\Users\\Yunkai\\AppData\\Roaming\\Python\\Python36\\site-packages\\sklearn\\linear_model\\stochastic_gradient.py:561: ConvergenceWarning: Maximum number of iteration reached before convergence. Consider increasing max_iter to improve the fit.\n",
      "  ConvergenceWarning)\n",
      "C:\\Users\\Yunkai\\AppData\\Roaming\\Python\\Python36\\site-packages\\sklearn\\linear_model\\stochastic_gradient.py:561: ConvergenceWarning: Maximum number of iteration reached before convergence. Consider increasing max_iter to improve the fit.\n",
      "  ConvergenceWarning)\n",
      "C:\\Users\\Yunkai\\AppData\\Roaming\\Python\\Python36\\site-packages\\sklearn\\linear_model\\stochastic_gradient.py:561: ConvergenceWarning: Maximum number of iteration reached before convergence. Consider increasing max_iter to improve the fit.\n",
      "  ConvergenceWarning)\n",
      "C:\\Users\\Yunkai\\AppData\\Roaming\\Python\\Python36\\site-packages\\sklearn\\linear_model\\stochastic_gradient.py:561: ConvergenceWarning: Maximum number of iteration reached before convergence. Consider increasing max_iter to improve the fit.\n",
      "  ConvergenceWarning)\n",
      "C:\\Users\\Yunkai\\AppData\\Roaming\\Python\\Python36\\site-packages\\sklearn\\linear_model\\stochastic_gradient.py:561: ConvergenceWarning: Maximum number of iteration reached before convergence. Consider increasing max_iter to improve the fit.\n",
      "  ConvergenceWarning)\n",
      "C:\\Users\\Yunkai\\AppData\\Roaming\\Python\\Python36\\site-packages\\sklearn\\linear_model\\stochastic_gradient.py:561: ConvergenceWarning: Maximum number of iteration reached before convergence. Consider increasing max_iter to improve the fit.\n",
      "  ConvergenceWarning)\n",
      "C:\\Users\\Yunkai\\AppData\\Roaming\\Python\\Python36\\site-packages\\sklearn\\linear_model\\stochastic_gradient.py:561: ConvergenceWarning: Maximum number of iteration reached before convergence. Consider increasing max_iter to improve the fit.\n",
      "  ConvergenceWarning)\n",
      "C:\\Users\\Yunkai\\AppData\\Roaming\\Python\\Python36\\site-packages\\sklearn\\linear_model\\stochastic_gradient.py:561: ConvergenceWarning: Maximum number of iteration reached before convergence. Consider increasing max_iter to improve the fit.\n",
      "  ConvergenceWarning)\n",
      "C:\\Users\\Yunkai\\AppData\\Roaming\\Python\\Python36\\site-packages\\sklearn\\linear_model\\stochastic_gradient.py:561: ConvergenceWarning: Maximum number of iteration reached before convergence. Consider increasing max_iter to improve the fit.\n",
      "  ConvergenceWarning)\n",
      "C:\\Users\\Yunkai\\AppData\\Roaming\\Python\\Python36\\site-packages\\sklearn\\linear_model\\stochastic_gradient.py:561: ConvergenceWarning: Maximum number of iteration reached before convergence. Consider increasing max_iter to improve the fit.\n",
      "  ConvergenceWarning)\n",
      "C:\\Users\\Yunkai\\AppData\\Roaming\\Python\\Python36\\site-packages\\sklearn\\linear_model\\stochastic_gradient.py:561: ConvergenceWarning: Maximum number of iteration reached before convergence. Consider increasing max_iter to improve the fit.\n",
      "  ConvergenceWarning)\n",
      "C:\\Users\\Yunkai\\AppData\\Roaming\\Python\\Python36\\site-packages\\sklearn\\linear_model\\stochastic_gradient.py:561: ConvergenceWarning: Maximum number of iteration reached before convergence. Consider increasing max_iter to improve the fit.\n",
      "  ConvergenceWarning)\n",
      "C:\\Users\\Yunkai\\AppData\\Roaming\\Python\\Python36\\site-packages\\sklearn\\linear_model\\stochastic_gradient.py:561: ConvergenceWarning: Maximum number of iteration reached before convergence. Consider increasing max_iter to improve the fit.\n",
      "  ConvergenceWarning)\n",
      "C:\\Users\\Yunkai\\AppData\\Roaming\\Python\\Python36\\site-packages\\sklearn\\linear_model\\stochastic_gradient.py:561: ConvergenceWarning: Maximum number of iteration reached before convergence. Consider increasing max_iter to improve the fit.\n",
      "  ConvergenceWarning)\n",
      "C:\\Users\\Yunkai\\AppData\\Roaming\\Python\\Python36\\site-packages\\sklearn\\linear_model\\stochastic_gradient.py:561: ConvergenceWarning: Maximum number of iteration reached before convergence. Consider increasing max_iter to improve the fit.\n",
      "  ConvergenceWarning)\n",
      "C:\\Users\\Yunkai\\AppData\\Roaming\\Python\\Python36\\site-packages\\sklearn\\linear_model\\stochastic_gradient.py:561: ConvergenceWarning: Maximum number of iteration reached before convergence. Consider increasing max_iter to improve the fit.\n",
      "  ConvergenceWarning)\n",
      "C:\\Users\\Yunkai\\AppData\\Roaming\\Python\\Python36\\site-packages\\sklearn\\linear_model\\stochastic_gradient.py:561: ConvergenceWarning: Maximum number of iteration reached before convergence. Consider increasing max_iter to improve the fit.\n",
      "  ConvergenceWarning)\n",
      "C:\\Users\\Yunkai\\AppData\\Roaming\\Python\\Python36\\site-packages\\sklearn\\linear_model\\stochastic_gradient.py:561: ConvergenceWarning: Maximum number of iteration reached before convergence. Consider increasing max_iter to improve the fit.\n",
      "  ConvergenceWarning)\n",
      "C:\\Users\\Yunkai\\AppData\\Roaming\\Python\\Python36\\site-packages\\sklearn\\linear_model\\stochastic_gradient.py:561: ConvergenceWarning: Maximum number of iteration reached before convergence. Consider increasing max_iter to improve the fit.\n",
      "  ConvergenceWarning)\n",
      "C:\\Users\\Yunkai\\AppData\\Roaming\\Python\\Python36\\site-packages\\sklearn\\linear_model\\stochastic_gradient.py:561: ConvergenceWarning: Maximum number of iteration reached before convergence. Consider increasing max_iter to improve the fit.\n",
      "  ConvergenceWarning)\n",
      "C:\\Users\\Yunkai\\AppData\\Roaming\\Python\\Python36\\site-packages\\sklearn\\linear_model\\stochastic_gradient.py:561: ConvergenceWarning: Maximum number of iteration reached before convergence. Consider increasing max_iter to improve the fit.\n",
      "  ConvergenceWarning)\n",
      "C:\\Users\\Yunkai\\AppData\\Roaming\\Python\\Python36\\site-packages\\sklearn\\linear_model\\stochastic_gradient.py:561: ConvergenceWarning: Maximum number of iteration reached before convergence. Consider increasing max_iter to improve the fit.\n",
      "  ConvergenceWarning)\n",
      "C:\\Users\\Yunkai\\AppData\\Roaming\\Python\\Python36\\site-packages\\sklearn\\linear_model\\stochastic_gradient.py:561: ConvergenceWarning: Maximum number of iteration reached before convergence. Consider increasing max_iter to improve the fit.\n",
      "  ConvergenceWarning)\n",
      "C:\\Users\\Yunkai\\AppData\\Roaming\\Python\\Python36\\site-packages\\sklearn\\linear_model\\stochastic_gradient.py:561: ConvergenceWarning: Maximum number of iteration reached before convergence. Consider increasing max_iter to improve the fit.\n",
      "  ConvergenceWarning)\n",
      "C:\\Users\\Yunkai\\AppData\\Roaming\\Python\\Python36\\site-packages\\sklearn\\linear_model\\stochastic_gradient.py:561: ConvergenceWarning: Maximum number of iteration reached before convergence. Consider increasing max_iter to improve the fit.\n",
      "  ConvergenceWarning)\n",
      "C:\\Users\\Yunkai\\AppData\\Roaming\\Python\\Python36\\site-packages\\sklearn\\linear_model\\stochastic_gradient.py:561: ConvergenceWarning: Maximum number of iteration reached before convergence. Consider increasing max_iter to improve the fit.\n",
      "  ConvergenceWarning)\n",
      "C:\\Users\\Yunkai\\AppData\\Roaming\\Python\\Python36\\site-packages\\sklearn\\linear_model\\stochastic_gradient.py:561: ConvergenceWarning: Maximum number of iteration reached before convergence. Consider increasing max_iter to improve the fit.\n",
      "  ConvergenceWarning)\n",
      "C:\\Users\\Yunkai\\AppData\\Roaming\\Python\\Python36\\site-packages\\sklearn\\linear_model\\stochastic_gradient.py:561: ConvergenceWarning: Maximum number of iteration reached before convergence. Consider increasing max_iter to improve the fit.\n",
      "  ConvergenceWarning)\n",
      "C:\\Users\\Yunkai\\AppData\\Roaming\\Python\\Python36\\site-packages\\sklearn\\linear_model\\stochastic_gradient.py:561: ConvergenceWarning: Maximum number of iteration reached before convergence. Consider increasing max_iter to improve the fit.\n",
      "  ConvergenceWarning)\n",
      "C:\\Users\\Yunkai\\AppData\\Roaming\\Python\\Python36\\site-packages\\sklearn\\linear_model\\stochastic_gradient.py:561: ConvergenceWarning: Maximum number of iteration reached before convergence. Consider increasing max_iter to improve the fit.\n",
      "  ConvergenceWarning)\n",
      "C:\\Users\\Yunkai\\AppData\\Roaming\\Python\\Python36\\site-packages\\sklearn\\linear_model\\stochastic_gradient.py:561: ConvergenceWarning: Maximum number of iteration reached before convergence. Consider increasing max_iter to improve the fit.\n",
      "  ConvergenceWarning)\n",
      "C:\\Users\\Yunkai\\AppData\\Roaming\\Python\\Python36\\site-packages\\sklearn\\linear_model\\stochastic_gradient.py:561: ConvergenceWarning: Maximum number of iteration reached before convergence. Consider increasing max_iter to improve the fit.\n",
      "  ConvergenceWarning)\n",
      "C:\\Users\\Yunkai\\AppData\\Roaming\\Python\\Python36\\site-packages\\sklearn\\linear_model\\stochastic_gradient.py:561: ConvergenceWarning: Maximum number of iteration reached before convergence. Consider increasing max_iter to improve the fit.\n",
      "  ConvergenceWarning)\n",
      "C:\\Users\\Yunkai\\AppData\\Roaming\\Python\\Python36\\site-packages\\sklearn\\linear_model\\stochastic_gradient.py:561: ConvergenceWarning: Maximum number of iteration reached before convergence. Consider increasing max_iter to improve the fit.\n",
      "  ConvergenceWarning)\n",
      "C:\\Users\\Yunkai\\AppData\\Roaming\\Python\\Python36\\site-packages\\sklearn\\linear_model\\stochastic_gradient.py:561: ConvergenceWarning: Maximum number of iteration reached before convergence. Consider increasing max_iter to improve the fit.\n",
      "  ConvergenceWarning)\n",
      "C:\\Users\\Yunkai\\AppData\\Roaming\\Python\\Python36\\site-packages\\sklearn\\linear_model\\stochastic_gradient.py:561: ConvergenceWarning: Maximum number of iteration reached before convergence. Consider increasing max_iter to improve the fit.\n",
      "  ConvergenceWarning)\n",
      "C:\\Users\\Yunkai\\AppData\\Roaming\\Python\\Python36\\site-packages\\sklearn\\linear_model\\stochastic_gradient.py:561: ConvergenceWarning: Maximum number of iteration reached before convergence. Consider increasing max_iter to improve the fit.\n",
      "  ConvergenceWarning)\n",
      "C:\\Users\\Yunkai\\AppData\\Roaming\\Python\\Python36\\site-packages\\sklearn\\linear_model\\stochastic_gradient.py:561: ConvergenceWarning: Maximum number of iteration reached before convergence. Consider increasing max_iter to improve the fit.\n",
      "  ConvergenceWarning)\n",
      "C:\\Users\\Yunkai\\AppData\\Roaming\\Python\\Python36\\site-packages\\sklearn\\linear_model\\stochastic_gradient.py:561: ConvergenceWarning: Maximum number of iteration reached before convergence. Consider increasing max_iter to improve the fit.\n",
      "  ConvergenceWarning)\n",
      "C:\\Users\\Yunkai\\AppData\\Roaming\\Python\\Python36\\site-packages\\sklearn\\linear_model\\stochastic_gradient.py:561: ConvergenceWarning: Maximum number of iteration reached before convergence. Consider increasing max_iter to improve the fit.\n",
      "  ConvergenceWarning)\n",
      "C:\\Users\\Yunkai\\AppData\\Roaming\\Python\\Python36\\site-packages\\sklearn\\linear_model\\stochastic_gradient.py:561: ConvergenceWarning: Maximum number of iteration reached before convergence. Consider increasing max_iter to improve the fit.\n",
      "  ConvergenceWarning)\n",
      "C:\\Users\\Yunkai\\AppData\\Roaming\\Python\\Python36\\site-packages\\sklearn\\linear_model\\stochastic_gradient.py:561: ConvergenceWarning: Maximum number of iteration reached before convergence. Consider increasing max_iter to improve the fit.\n",
      "  ConvergenceWarning)\n",
      "C:\\Users\\Yunkai\\AppData\\Roaming\\Python\\Python36\\site-packages\\sklearn\\linear_model\\stochastic_gradient.py:561: ConvergenceWarning: Maximum number of iteration reached before convergence. Consider increasing max_iter to improve the fit.\n",
      "  ConvergenceWarning)\n",
      "C:\\Users\\Yunkai\\AppData\\Roaming\\Python\\Python36\\site-packages\\sklearn\\linear_model\\stochastic_gradient.py:561: ConvergenceWarning: Maximum number of iteration reached before convergence. Consider increasing max_iter to improve the fit.\n",
      "  ConvergenceWarning)\n",
      "C:\\Users\\Yunkai\\AppData\\Roaming\\Python\\Python36\\site-packages\\sklearn\\linear_model\\stochastic_gradient.py:561: ConvergenceWarning: Maximum number of iteration reached before convergence. Consider increasing max_iter to improve the fit.\n",
      "  ConvergenceWarning)\n",
      "C:\\Users\\Yunkai\\AppData\\Roaming\\Python\\Python36\\site-packages\\sklearn\\linear_model\\stochastic_gradient.py:561: ConvergenceWarning: Maximum number of iteration reached before convergence. Consider increasing max_iter to improve the fit.\n",
      "  ConvergenceWarning)\n"
     ]
    },
    {
     "name": "stderr",
     "output_type": "stream",
     "text": [
      "C:\\Users\\Yunkai\\AppData\\Roaming\\Python\\Python36\\site-packages\\sklearn\\linear_model\\stochastic_gradient.py:561: ConvergenceWarning: Maximum number of iteration reached before convergence. Consider increasing max_iter to improve the fit.\n",
      "  ConvergenceWarning)\n",
      "C:\\Users\\Yunkai\\AppData\\Roaming\\Python\\Python36\\site-packages\\sklearn\\linear_model\\stochastic_gradient.py:561: ConvergenceWarning: Maximum number of iteration reached before convergence. Consider increasing max_iter to improve the fit.\n",
      "  ConvergenceWarning)\n",
      "C:\\Users\\Yunkai\\AppData\\Roaming\\Python\\Python36\\site-packages\\sklearn\\linear_model\\stochastic_gradient.py:561: ConvergenceWarning: Maximum number of iteration reached before convergence. Consider increasing max_iter to improve the fit.\n",
      "  ConvergenceWarning)\n",
      "C:\\Users\\Yunkai\\AppData\\Roaming\\Python\\Python36\\site-packages\\sklearn\\linear_model\\stochastic_gradient.py:561: ConvergenceWarning: Maximum number of iteration reached before convergence. Consider increasing max_iter to improve the fit.\n",
      "  ConvergenceWarning)\n",
      "C:\\Users\\Yunkai\\AppData\\Roaming\\Python\\Python36\\site-packages\\sklearn\\linear_model\\stochastic_gradient.py:561: ConvergenceWarning: Maximum number of iteration reached before convergence. Consider increasing max_iter to improve the fit.\n",
      "  ConvergenceWarning)\n",
      "C:\\Users\\Yunkai\\AppData\\Roaming\\Python\\Python36\\site-packages\\sklearn\\linear_model\\stochastic_gradient.py:561: ConvergenceWarning: Maximum number of iteration reached before convergence. Consider increasing max_iter to improve the fit.\n",
      "  ConvergenceWarning)\n",
      "C:\\Users\\Yunkai\\AppData\\Roaming\\Python\\Python36\\site-packages\\sklearn\\linear_model\\stochastic_gradient.py:561: ConvergenceWarning: Maximum number of iteration reached before convergence. Consider increasing max_iter to improve the fit.\n",
      "  ConvergenceWarning)\n",
      "C:\\Users\\Yunkai\\AppData\\Roaming\\Python\\Python36\\site-packages\\sklearn\\linear_model\\stochastic_gradient.py:561: ConvergenceWarning: Maximum number of iteration reached before convergence. Consider increasing max_iter to improve the fit.\n",
      "  ConvergenceWarning)\n",
      "C:\\Users\\Yunkai\\AppData\\Roaming\\Python\\Python36\\site-packages\\sklearn\\linear_model\\stochastic_gradient.py:561: ConvergenceWarning: Maximum number of iteration reached before convergence. Consider increasing max_iter to improve the fit.\n",
      "  ConvergenceWarning)\n",
      "C:\\Users\\Yunkai\\AppData\\Roaming\\Python\\Python36\\site-packages\\sklearn\\linear_model\\stochastic_gradient.py:561: ConvergenceWarning: Maximum number of iteration reached before convergence. Consider increasing max_iter to improve the fit.\n",
      "  ConvergenceWarning)\n",
      "C:\\Users\\Yunkai\\AppData\\Roaming\\Python\\Python36\\site-packages\\sklearn\\linear_model\\stochastic_gradient.py:561: ConvergenceWarning: Maximum number of iteration reached before convergence. Consider increasing max_iter to improve the fit.\n",
      "  ConvergenceWarning)\n",
      "C:\\Users\\Yunkai\\AppData\\Roaming\\Python\\Python36\\site-packages\\sklearn\\linear_model\\stochastic_gradient.py:561: ConvergenceWarning: Maximum number of iteration reached before convergence. Consider increasing max_iter to improve the fit.\n",
      "  ConvergenceWarning)\n",
      "C:\\Users\\Yunkai\\AppData\\Roaming\\Python\\Python36\\site-packages\\sklearn\\linear_model\\stochastic_gradient.py:561: ConvergenceWarning: Maximum number of iteration reached before convergence. Consider increasing max_iter to improve the fit.\n",
      "  ConvergenceWarning)\n",
      "C:\\Users\\Yunkai\\AppData\\Roaming\\Python\\Python36\\site-packages\\sklearn\\linear_model\\stochastic_gradient.py:561: ConvergenceWarning: Maximum number of iteration reached before convergence. Consider increasing max_iter to improve the fit.\n",
      "  ConvergenceWarning)\n",
      "C:\\Users\\Yunkai\\AppData\\Roaming\\Python\\Python36\\site-packages\\sklearn\\linear_model\\stochastic_gradient.py:561: ConvergenceWarning: Maximum number of iteration reached before convergence. Consider increasing max_iter to improve the fit.\n",
      "  ConvergenceWarning)\n",
      "C:\\Users\\Yunkai\\AppData\\Roaming\\Python\\Python36\\site-packages\\sklearn\\linear_model\\stochastic_gradient.py:561: ConvergenceWarning: Maximum number of iteration reached before convergence. Consider increasing max_iter to improve the fit.\n",
      "  ConvergenceWarning)\n",
      "C:\\Users\\Yunkai\\AppData\\Roaming\\Python\\Python36\\site-packages\\sklearn\\linear_model\\stochastic_gradient.py:561: ConvergenceWarning: Maximum number of iteration reached before convergence. Consider increasing max_iter to improve the fit.\n",
      "  ConvergenceWarning)\n",
      "C:\\Users\\Yunkai\\AppData\\Roaming\\Python\\Python36\\site-packages\\sklearn\\linear_model\\stochastic_gradient.py:561: ConvergenceWarning: Maximum number of iteration reached before convergence. Consider increasing max_iter to improve the fit.\n",
      "  ConvergenceWarning)\n",
      "C:\\Users\\Yunkai\\AppData\\Roaming\\Python\\Python36\\site-packages\\sklearn\\linear_model\\stochastic_gradient.py:561: ConvergenceWarning: Maximum number of iteration reached before convergence. Consider increasing max_iter to improve the fit.\n",
      "  ConvergenceWarning)\n",
      "C:\\Users\\Yunkai\\AppData\\Roaming\\Python\\Python36\\site-packages\\sklearn\\linear_model\\stochastic_gradient.py:561: ConvergenceWarning: Maximum number of iteration reached before convergence. Consider increasing max_iter to improve the fit.\n",
      "  ConvergenceWarning)\n",
      "C:\\Users\\Yunkai\\AppData\\Roaming\\Python\\Python36\\site-packages\\sklearn\\linear_model\\stochastic_gradient.py:561: ConvergenceWarning: Maximum number of iteration reached before convergence. Consider increasing max_iter to improve the fit.\n",
      "  ConvergenceWarning)\n",
      "C:\\Users\\Yunkai\\AppData\\Roaming\\Python\\Python36\\site-packages\\sklearn\\linear_model\\stochastic_gradient.py:561: ConvergenceWarning: Maximum number of iteration reached before convergence. Consider increasing max_iter to improve the fit.\n",
      "  ConvergenceWarning)\n",
      "C:\\Users\\Yunkai\\AppData\\Roaming\\Python\\Python36\\site-packages\\sklearn\\linear_model\\stochastic_gradient.py:561: ConvergenceWarning: Maximum number of iteration reached before convergence. Consider increasing max_iter to improve the fit.\n",
      "  ConvergenceWarning)\n",
      "C:\\Users\\Yunkai\\AppData\\Roaming\\Python\\Python36\\site-packages\\sklearn\\linear_model\\stochastic_gradient.py:561: ConvergenceWarning: Maximum number of iteration reached before convergence. Consider increasing max_iter to improve the fit.\n",
      "  ConvergenceWarning)\n",
      "C:\\Users\\Yunkai\\AppData\\Roaming\\Python\\Python36\\site-packages\\sklearn\\linear_model\\stochastic_gradient.py:561: ConvergenceWarning: Maximum number of iteration reached before convergence. Consider increasing max_iter to improve the fit.\n",
      "  ConvergenceWarning)\n",
      "C:\\Users\\Yunkai\\AppData\\Roaming\\Python\\Python36\\site-packages\\sklearn\\linear_model\\stochastic_gradient.py:561: ConvergenceWarning: Maximum number of iteration reached before convergence. Consider increasing max_iter to improve the fit.\n",
      "  ConvergenceWarning)\n",
      "C:\\Users\\Yunkai\\AppData\\Roaming\\Python\\Python36\\site-packages\\sklearn\\linear_model\\stochastic_gradient.py:561: ConvergenceWarning: Maximum number of iteration reached before convergence. Consider increasing max_iter to improve the fit.\n",
      "  ConvergenceWarning)\n",
      "C:\\Users\\Yunkai\\AppData\\Roaming\\Python\\Python36\\site-packages\\sklearn\\linear_model\\stochastic_gradient.py:561: ConvergenceWarning: Maximum number of iteration reached before convergence. Consider increasing max_iter to improve the fit.\n",
      "  ConvergenceWarning)\n",
      "C:\\Users\\Yunkai\\AppData\\Roaming\\Python\\Python36\\site-packages\\sklearn\\linear_model\\stochastic_gradient.py:561: ConvergenceWarning: Maximum number of iteration reached before convergence. Consider increasing max_iter to improve the fit.\n",
      "  ConvergenceWarning)\n",
      "C:\\Users\\Yunkai\\AppData\\Roaming\\Python\\Python36\\site-packages\\sklearn\\linear_model\\stochastic_gradient.py:561: ConvergenceWarning: Maximum number of iteration reached before convergence. Consider increasing max_iter to improve the fit.\n",
      "  ConvergenceWarning)\n",
      "C:\\Users\\Yunkai\\AppData\\Roaming\\Python\\Python36\\site-packages\\sklearn\\linear_model\\stochastic_gradient.py:561: ConvergenceWarning: Maximum number of iteration reached before convergence. Consider increasing max_iter to improve the fit.\n",
      "  ConvergenceWarning)\n",
      "C:\\Users\\Yunkai\\AppData\\Roaming\\Python\\Python36\\site-packages\\sklearn\\linear_model\\stochastic_gradient.py:561: ConvergenceWarning: Maximum number of iteration reached before convergence. Consider increasing max_iter to improve the fit.\n",
      "  ConvergenceWarning)\n"
     ]
    },
    {
     "name": "stderr",
     "output_type": "stream",
     "text": [
      "C:\\Users\\Yunkai\\AppData\\Roaming\\Python\\Python36\\site-packages\\sklearn\\linear_model\\stochastic_gradient.py:561: ConvergenceWarning: Maximum number of iteration reached before convergence. Consider increasing max_iter to improve the fit.\n",
      "  ConvergenceWarning)\n",
      "C:\\Users\\Yunkai\\AppData\\Roaming\\Python\\Python36\\site-packages\\sklearn\\linear_model\\stochastic_gradient.py:561: ConvergenceWarning: Maximum number of iteration reached before convergence. Consider increasing max_iter to improve the fit.\n",
      "  ConvergenceWarning)\n",
      "C:\\Users\\Yunkai\\AppData\\Roaming\\Python\\Python36\\site-packages\\sklearn\\linear_model\\stochastic_gradient.py:561: ConvergenceWarning: Maximum number of iteration reached before convergence. Consider increasing max_iter to improve the fit.\n",
      "  ConvergenceWarning)\n",
      "C:\\Users\\Yunkai\\AppData\\Roaming\\Python\\Python36\\site-packages\\sklearn\\linear_model\\stochastic_gradient.py:561: ConvergenceWarning: Maximum number of iteration reached before convergence. Consider increasing max_iter to improve the fit.\n",
      "  ConvergenceWarning)\n",
      "C:\\Users\\Yunkai\\AppData\\Roaming\\Python\\Python36\\site-packages\\sklearn\\linear_model\\stochastic_gradient.py:561: ConvergenceWarning: Maximum number of iteration reached before convergence. Consider increasing max_iter to improve the fit.\n",
      "  ConvergenceWarning)\n",
      "C:\\Users\\Yunkai\\AppData\\Roaming\\Python\\Python36\\site-packages\\sklearn\\linear_model\\stochastic_gradient.py:561: ConvergenceWarning: Maximum number of iteration reached before convergence. Consider increasing max_iter to improve the fit.\n",
      "  ConvergenceWarning)\n",
      "C:\\Users\\Yunkai\\AppData\\Roaming\\Python\\Python36\\site-packages\\sklearn\\linear_model\\stochastic_gradient.py:561: ConvergenceWarning: Maximum number of iteration reached before convergence. Consider increasing max_iter to improve the fit.\n",
      "  ConvergenceWarning)\n",
      "C:\\Users\\Yunkai\\AppData\\Roaming\\Python\\Python36\\site-packages\\sklearn\\linear_model\\stochastic_gradient.py:561: ConvergenceWarning: Maximum number of iteration reached before convergence. Consider increasing max_iter to improve the fit.\n",
      "  ConvergenceWarning)\n",
      "C:\\Users\\Yunkai\\AppData\\Roaming\\Python\\Python36\\site-packages\\sklearn\\linear_model\\stochastic_gradient.py:561: ConvergenceWarning: Maximum number of iteration reached before convergence. Consider increasing max_iter to improve the fit.\n",
      "  ConvergenceWarning)\n",
      "C:\\Users\\Yunkai\\AppData\\Roaming\\Python\\Python36\\site-packages\\sklearn\\linear_model\\stochastic_gradient.py:561: ConvergenceWarning: Maximum number of iteration reached before convergence. Consider increasing max_iter to improve the fit.\n",
      "  ConvergenceWarning)\n",
      "C:\\Users\\Yunkai\\AppData\\Roaming\\Python\\Python36\\site-packages\\sklearn\\model_selection\\_search.py:814: DeprecationWarning: The default of the `iid` parameter will change from True to False in version 0.22 and will be removed in 0.24. This will change numeric results when test-set sizes are unequal.\n",
      "  DeprecationWarning)\n",
      "C:\\Users\\Yunkai\\AppData\\Roaming\\Python\\Python36\\site-packages\\sklearn\\linear_model\\stochastic_gradient.py:561: ConvergenceWarning: Maximum number of iteration reached before convergence. Consider increasing max_iter to improve the fit.\n",
      "  ConvergenceWarning)\n"
     ]
    }
   ],
   "source": [
    "## Cross-validation and fit\n",
    "gs_clf_sgd = GridSearchCV(text_clf_sgd, parameters, cv=5)\n",
    "gs_clf_sgd = gs_clf_sgd.fit(X_train,Y_train)\n",
    "predicted_gs = gs_clf_sgd.predict(X_test)\n",
    "accuracy = np.mean(predicted_gs == Y_test)"
   ]
  },
  {
   "cell_type": "code",
   "execution_count": 103,
   "metadata": {},
   "outputs": [
    {
     "name": "stdout",
     "output_type": "stream",
     "text": [
      "Grid search best score: 0.6375\n",
      "{'clf-sgd__alpha': 0.0001, 'clf-sgd__l1_ratio': 0, 'vect__ngram_range': (1, 2)}\n",
      "Accuracy: 0.7\n"
     ]
    }
   ],
   "source": [
    "print(\"Grid search best score:\", gs_clf_sgd.best_score_)\n",
    "print(gs_clf_sgd.best_params_)\n",
    "print(\"Accuracy:\", accuracy)"
   ]
  },
  {
   "cell_type": "code",
   "execution_count": 104,
   "metadata": {},
   "outputs": [
    {
     "name": "stdout",
     "output_type": "stream",
     "text": [
      "Confusion Matrix:\n",
      "[[5 6]\n",
      " [0 9]]\n"
     ]
    },
    {
     "data": {
      "image/png": "[encoded data removed]",
      "text/plain": [
       "<Figure size 432x288 with 2 Axes>"
      ]
     },
     "metadata": {
      "needs_background": "light"
     },
     "output_type": "display_data"
    },
    {
     "name": "stdout",
     "output_type": "stream",
     "text": [
      "              precision    recall  f1-score   support\n",
      "\n",
      "       False       1.00      0.45      0.62        11\n",
      "        True       0.60      1.00      0.75         9\n",
      "\n",
      "    accuracy                           0.70        20\n",
      "   macro avg       0.80      0.73      0.69        20\n",
      "weighted avg       0.82      0.70      0.68        20\n",
      "\n"
     ]
    }
   ],
   "source": [
    "## Graphical visualization\n",
    "cnf_matrix = confusion_matrix(Y_test, predicted_gs)\n",
    "plt.figure()\n",
    "class_names = ['False', 'True']\n",
    "plot_confusion_matrix(cnf_matrix, classes=class_names,\n",
    "                      Y_test = Y_test, predictions = predicted_gs,\n",
    "                      title='Confusion matrix')"
   ]
  },
  {
   "cell_type": "code",
   "execution_count": null,
   "metadata": {
    "collapsed": true
   },
   "outputs": [],
   "source": []
  }
 ],
 "metadata": {
  "kernelspec": {
   "display_name": "Python 3",
   "language": "python",
   "name": "python3"
  },
  "language_info": {
   "codemirror_mode": {
    "name": "ipython",
    "version": 3
   },
   "file_extension": ".py",
   "mimetype": "text/x-python",
   "name": "python",
   "nbconvert_exporter": "python",
   "pygments_lexer": "ipython3",
   "version": "3.6.7"
  }
 },
 "nbformat": 4,
 "nbformat_minor": 2
}
